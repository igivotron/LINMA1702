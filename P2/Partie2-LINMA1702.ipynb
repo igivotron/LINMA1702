{
 "cells": [
  {
   "cell_type": "markdown",
   "source": [
    "# Analyse d’un modèle avec demandes, stockage hydroélectrique et gaz"
   ],
   "metadata": {
    "collapsed": false
   },
   "id": "da1a1a4c448e66b1"
  },
  {
   "cell_type": "markdown",
   "source": [
    "### Import des librairies utilisées pour résoudre les problèmes"
   ],
   "metadata": {
    "collapsed": false
   },
   "id": "cff2b2724eb2707c"
  },
  {
   "cell_type": "code",
   "execution_count": 522,
   "id": "initial_id",
   "metadata": {
    "collapsed": true,
    "ExecuteTime": {
     "end_time": "2024-05-12T20:44:06.250864Z",
     "start_time": "2024-05-12T20:44:06.247866Z"
    }
   },
   "outputs": [],
   "source": [
    "import numpy as np\n",
    "from fileData import FileData\n",
    "import matplotlib.pyplot as plt\n",
    "import cvxpy as cp"
   ]
  },
  {
   "cell_type": "markdown",
   "source": [
    "### Variables communes"
   ],
   "metadata": {
    "collapsed": false
   },
   "id": "4347be43cae40b02"
  },
  {
   "cell_type": "code",
   "outputs": [],
   "source": [
    "# Couts d'installation amortis des éoliennes\n",
    "cout_instal_onshore  = 168903 # Coût *amorti sur un an* pour l'installation d'un MW éolien on-shore (euros/MW/an)\n",
    "cout_instal_offshore = 300336 # Coût *amorti sur un an* pour l'installation d'un MW éolien on-shore (euros/MW/an)\n",
    "\n",
    "# Couts d'installation amortis et coûts de fonctionnement des centrales au gaz\n",
    "cout_instal_gaz = 94956 # Coût *amorti sur un an* pour l'installation d'un MW de centrale au gaz (euros/MW/an)\n",
    "cout_fonct_gaz  = 65    # Coût de fonctionnement pour la production d'un MWh par centrale au gaz (euros/MWh)\n",
    "\n",
    "# Stockage disponible par pays (en MWh)\n",
    "stockage = [0.3*1e6 , 3.2*1e6 , 0.01*1e6 , 0 , 18.4*1e6 , 9.8*1e6 , 0.24*1e6 , 7.9*1e6 , 0.005*1e6 , 84.147*1e6 , 0 , 2.6*1e6 , 1.2*1e6 , 33.756*1e6 , 8.4*1e6]\n",
    "\n",
    "# Puissances maximales de turbinage et de pompage disponibles par pays (en MW)\n",
    "turbinage = [8587 , 12009 , 1417 , 9 , 18372 , 25132 , 527 , 21117 , 1140 , 28941 , 37 , 5052 , 4269 , 16637 , 15101]\n",
    "pompage   = [5223 , 3580 , 1307 , 0 , 5347 , 4303 , 292 , 7544 , 1100 , 1396 , 0 , 1029 , 2744 , 45 , 1636 ]\n",
    "\n",
    "# Rendement pour le turbinage (sans unité)\n",
    "heta = 0.85\n",
    "\n",
    "# Longueur de la période utilisée\n",
    "T = 3\n",
    "\n",
    "#Nombre d'éoliennes onshore et offshore\n",
    "n_t = 487\n",
    "n_m = 155\n",
    "n = n_t + n_m"
   ],
   "metadata": {
    "collapsed": false,
    "ExecuteTime": {
     "end_time": "2024-05-12T20:44:06.271229Z",
     "start_time": "2024-05-12T20:44:06.265864Z"
    }
   },
   "id": "dd16a4bf861852e6",
   "execution_count": 523
  },
  {
   "cell_type": "markdown",
   "source": [
    "### Extraction des données partagées dans les modèles"
   ],
   "metadata": {
    "collapsed": false
   },
   "id": "d0b78119737125f7"
  },
  {
   "cell_type": "code",
   "outputs": [],
   "source": [
    "data = FileData()\n",
    "\n",
    "# Matrice de la consommation agrégée\n",
    "D = np.sum(data.getConsoData(), axis=0)\n",
    "# Rendement des éoliennes onshore et offshore\n",
    "R = data.getRend()\n",
    "# Capacités électriques éolien\n",
    "c = data.getCapacities()\n",
    "\n"
   ],
   "metadata": {
    "collapsed": false,
    "ExecuteTime": {
     "end_time": "2024-05-12T20:44:10.884093Z",
     "start_time": "2024-05-12T20:44:06.278206Z"
    }
   },
   "id": "acfcd0a6ccd619e4",
   "execution_count": 524
  },
  {
   "cell_type": "markdown",
   "source": [
    "### Fonctions communes\n",
    "Fonctions communes à tous les modèles"
   ],
   "metadata": {
    "collapsed": false
   },
   "id": "37da39102f468e12"
  },
  {
   "cell_type": "code",
   "outputs": [],
   "source": [
    "def periodisation(A, T):\n",
    "    \"\"\"\n",
    "    Additionne toutes les valeurs de A dans une même période.\n",
    "    input A : Matrice à périodiser\n",
    "    input T : Longueur de la période\n",
    "    output : Matrice A périodisée\n",
    "    \"\"\"\n",
    "    # p : nombre de période\n",
    "    # r : reste du nombre de période\n",
    "    p = A.shape[1] // T\n",
    "    r = A.shape[1] % T\n",
    "    # On coupe la matrice car sinon il n'y a pas assez de données de remplir la dernière période\n",
    "    A = A[:,:-r] if r!=0 else A\n",
    "    # C : matrice pour additionner les productions d'une période\n",
    "    C = np.zeros((A.shape[1], p))\n",
    "    for i in range(p):\n",
    "        C[i * T:(i + 1) * T, i] = 1\n",
    "    # P : matrice périodisée\n",
    "    P = np.dot(A, C)\n",
    "    return P\n",
    "\n",
    "def E_eolienne(R, c, T):\n",
    "    A = np.zeros(R.shape)\n",
    "    for i in range(len(c)):\n",
    "        A[i] = c[i] * R[i]\n",
    "        \n",
    "    A = periodisation(A, T)\n",
    "    return A"
   ],
   "metadata": {
    "collapsed": false,
    "ExecuteTime": {
     "end_time": "2024-05-12T20:44:10.890618Z",
     "start_time": "2024-05-12T20:44:10.885090Z"
    }
   },
   "id": "a4f49462ad749662",
   "execution_count": 525
  },
  {
   "cell_type": "markdown",
   "source": [
    "### Produits des fonctions communes\n",
    "Variables communes nécessitant un calcul"
   ],
   "metadata": {
    "collapsed": false
   },
   "id": "1a9d698594507b4d"
  },
  {
   "cell_type": "code",
   "outputs": [],
   "source": [
    "# Périodisation de D\n",
    "D = periodisation(np.array([D]), T)[0]\n",
    "# E : matrice de la production éolienne par site par période\n",
    "E = E_eolienne(R, c, T)\n",
    "# e : vecteur de production par période\n",
    "e = np.sum(E,axis=0)\n",
    "# s : scalaire, stockage total hydroélectrique\n",
    "s = np.sum(stockage)\n",
    "# pPompage : scalaire, puissance de pompage totale\n",
    "pPompage = np.sum(pompage)\n",
    "# pTurbinage : scalaire, puissance de turbinage totale\n",
    "pTurbinage = np.sum(turbinage)\n",
    "# wApport : Débit naturel de remplissage du stockage\n",
    "wApport = np.sum(data.getHydroData())"
   ],
   "metadata": {
    "collapsed": false,
    "ExecuteTime": {
     "end_time": "2024-05-12T20:44:11.149066Z",
     "start_time": "2024-05-12T20:44:10.891153Z"
    }
   },
   "id": "566a7d20beae9778",
   "execution_count": 526
  },
  {
   "cell_type": "markdown",
   "source": [
    "## Modèle 4\n",
    "On considère d’abord un modèle européen agrégé avec installation d’éoliennes et utilisation des capacités hydroélectriques, mais pas de centrales au gaz. Ce modèle agrégé ne possède donc qu’une seule entité pour la production, le stockage et la consommation d’électricité (additionnez les capacités hydroélectriques et les demandes de tous les pays qui la composent).\n",
    "On chercher à calculer la valeur minimale du prix moyen de l’électricité consommée."
   ],
   "metadata": {
    "collapsed": false
   },
   "id": "f2efa59880f83f56"
  },
  {
   "cell_type": "markdown",
   "source": [
    "# <span style=\"color:red\">Simplification pour voir comment ça fonctionne : On place seulement des éoliennes</span>"
   ],
   "metadata": {
    "collapsed": false
   },
   "id": "ddff3dad22f2d1ef"
  },
  {
   "cell_type": "code",
   "outputs": [
    {
     "name": "stdout",
     "output_type": "stream",
     "text": [
      "Le prix optimal est :  7.211424753553405e-10\n",
      "[ 3.63252153e-16  4.04077738e-18  2.54638847e-18  2.86006595e-18\n",
      "  3.26226758e-18  3.51299799e-18  6.64453040e-18  3.34079992e-18\n",
      "  2.69892534e-18  2.32889588e-18  2.13207582e-18  2.20256638e-18\n",
      "  2.23448065e-18  2.23654963e-18  2.40790291e-18  2.21129514e-18\n",
      "  2.07561079e-18  1.98647899e-18  1.97482715e-18  2.09066701e-18\n",
      "  2.09936714e-18  2.01498405e-18  1.88132278e-18  1.85182944e-18\n",
      "  1.76356938e-18  1.75195493e-18  1.82466635e-18  1.88601640e-18\n",
      "  1.91513824e-18  1.85744694e-18  1.89414741e-18  1.76882855e-18\n",
      "  1.74065978e-18  1.78552147e-18  1.79053285e-18  1.86617662e-18\n",
      "  1.69641618e-18  1.86679824e-18  1.96765476e-18  1.99197528e-18\n",
      "  2.03468014e-18  2.07776212e-18  1.74938655e-18  1.90678597e-18\n",
      "  2.06665782e-18  2.15271133e-18  2.10114976e-18  1.50852242e-18\n",
      "  1.51672369e-18  1.55045078e-18  1.63994229e-18  1.53351791e-18\n",
      "  1.46712581e-18  1.63059484e-18  1.80168796e-18  1.70550455e-18\n",
      "  2.06926297e-18  1.97203449e-18  3.16997556e-18  2.37637980e-18\n",
      "  2.20313180e-18  2.04551078e-18  3.01265859e-18  1.71485078e-18\n",
      "  1.67116988e-18  1.99283018e-18  2.91911029e-18  1.73411697e-18\n",
      "  2.19750224e-18  2.22090973e-18  2.06234351e-18  1.71821282e-18\n",
      "  1.86883596e-18  2.03495019e-18  6.94585416e-18  2.46045020e-18\n",
      "  2.40390125e-18  2.23328321e-18  2.46942355e-18  2.39138591e-18\n",
      "  1.98170606e-18  1.95974669e-18  2.06162261e-18  1.63559663e-18\n",
      "  1.71601190e-18  1.83824084e-18  1.95085893e-18  2.00757489e-18\n",
      "  1.77792928e-18  1.82595177e-18  2.03400605e-18  1.99538991e-18\n",
      "  1.99146763e-18  2.07042287e-18  2.52684168e-18  1.80105034e-18\n",
      "  1.73405884e-18  1.66986958e-18  1.71983435e-18  1.87685547e-18\n",
      "  2.12729502e-18  2.76936672e-18  3.42054538e-18  1.70568165e-18\n",
      "  1.67703502e-18  1.73721934e-18  1.69187627e-18  1.90243280e-18\n",
      "  2.07043081e-18  3.27526461e-18  1.57069077e-18  1.77931021e-18\n",
      "  1.85361787e-18  1.95153573e-18  1.92110529e-18  1.78987909e-18\n",
      "  1.89351561e-18  3.11674563e-18  1.80534512e-18  2.08058888e-18\n",
      "  2.23292639e-18  2.02470925e-18  2.08012446e-18  1.83158036e-18\n",
      "  1.90274461e-18  3.63318853e-18  2.17155276e-18  2.70014588e-18\n",
      "  3.12286914e-18  4.04707231e-18  2.42713333e-18  2.88967811e-18\n",
      "  2.83741942e-18  5.10264068e-18  1.28744488e-17  2.50424459e-18\n",
      "  2.02411988e-18  1.94467253e-18  3.79480868e-17  4.68063181e-18\n",
      "  3.10418006e-18  2.95976935e-18  2.25284046e-18  1.89277068e-18\n",
      "  1.76245769e-18  1.64409130e-18  1.71750436e-18  1.75646497e-18\n",
      "  1.69395097e-18  4.25558109e-18  2.71576650e-18  2.39485483e-18\n",
      "  2.21536818e-18  2.05185082e-18  2.00839401e-18  1.84259232e-18\n",
      "  1.73711805e-18  1.64866537e-18  1.61248530e-18  1.60798577e-18\n",
      "  1.56675263e-18  8.02776970e-18  2.35975157e-18  2.17577180e-18\n",
      "  2.02966790e-18  1.88659201e-18  1.69869062e-18  1.68310246e-18\n",
      "  1.61383889e-18  1.65742521e-18  6.06750435e-18  2.29126237e-18\n",
      "  2.02704091e-18  1.90436233e-18  1.61053888e-18  1.82030452e-18\n",
      "  1.83317661e-18  1.71053813e-18  3.24692550e-18  1.94800490e-18\n",
      "  1.88181312e-18  1.82188281e-18  2.06064895e-18  2.28312095e-18\n",
      "  2.54634246e-18  2.17114497e-18  2.15861350e-18  1.91917467e-18\n",
      "  2.02850432e-18  2.36188855e-18  2.68796191e-18  2.70612483e-18\n",
      "  2.98462001e-18  2.38813693e-18  1.87187257e-18  1.80142456e-18\n",
      "  1.89864881e-18  2.81018557e-18  3.80950491e-18  3.60791835e-18\n",
      "  2.06531403e-18  6.28705844e-19  2.53503477e-19  1.34032969e-19\n",
      "  9.24837319e-20 -9.10301074e-20 -4.45133718e-19 -2.00114426e-19\n",
      "  2.93160958e-20  4.12538211e-19 -3.40730861e-19  1.30145869e-19\n",
      "  5.20796941e-19  1.79464279e-18  1.81677215e-18  1.77577486e-18\n",
      "  1.72061419e-18  1.83784097e-18  2.08327441e-18  2.08726271e-18\n",
      "  2.09042677e-18  1.95584421e-18  1.92961196e-18  1.81133043e-18\n",
      "  1.86431717e-18  3.14749333e-18  1.85954841e-18  1.96834837e-18\n",
      "  1.88964609e-18  2.06162777e-18  1.90979618e-18  1.58772110e-18\n",
      "  1.63503763e-18  1.95500953e-18  2.37167329e-18  1.82837268e-18\n",
      "  1.51306644e-18  1.60246577e-18  1.80444071e-18  4.39770718e-18\n",
      "  1.66838112e-18  1.72361088e-18  3.54567501e-18  1.59005828e-18\n",
      "  1.77498154e-18  2.60889807e-18  1.90353788e-18  1.71418253e-18\n",
      "  1.77880158e-18  4.16092518e-18  1.79247262e-18  3.09654513e-18\n",
      "  7.92275342e-18  2.55172647e-18  2.69849905e-18  2.33633053e-18\n",
      "  4.50575201e-18  2.75909934e-18  1.61285842e-18  4.18828838e-19\n",
      " -3.23862535e-19 -8.86264968e-19 -3.93160288e-19  3.35686404e-19\n",
      "  3.24026654e-19 -3.85336689e-19 -6.60724579e-19 -5.27076539e-19\n",
      " -7.05178154e-19 -6.97332567e-19 -9.57251963e-19 -8.99539173e-19\n",
      "  1.21417500e-18 -6.66196381e-19 -5.08314157e-19 -7.79487485e-19\n",
      "  2.91337836e-19 -2.76584171e-19 -5.23888416e-19 -6.91301451e-19\n",
      "  1.44201834e-18  1.26999394e-18 -1.40970129e-18 -1.23459102e-18\n",
      " -1.49794394e-18  2.88247502e-19 -1.95578376e-19 -5.39803660e-19\n",
      "  2.77481268e-19 -1.85847958e-19 -5.64564595e-19  2.82169655e-19\n",
      " -3.61449480e-19  1.09408941e-19 -5.32779649e-19 -1.01671236e-18\n",
      "  1.59403594e-19 -6.69398298e-19 -8.32017123e-19  3.50107620e-19\n",
      " -6.60828889e-19 -1.09453945e-18 -9.26221107e-19 -1.43186591e-18\n",
      " -7.58604905e-19 -7.58016577e-19 -7.99109587e-19 -1.09822511e-18\n",
      " -1.12339307e-18 -1.57928006e-18 -1.50628487e-18 -2.17211134e-18\n",
      " -9.69009884e-20 -9.39127926e-19 -1.32882707e-18 -1.82392471e-18\n",
      " -2.17554238e-18 -2.29164192e-18 -2.25435073e-18 -2.57905374e-19\n",
      " -9.27325059e-19 -1.31605952e-18 -1.75776339e-18 -1.90532991e-18\n",
      " -1.80716503e-18 -1.86333263e-18 -3.30087816e-19 -8.30878118e-19\n",
      " -1.06745239e-18 -7.80815348e-19 -7.77358330e-19  2.46297442e-18\n",
      "  1.58215100e-18  1.53496762e-18  1.98530562e-18  1.30305799e-18\n",
      "  1.23752297e-18  1.70125745e-18  2.99965196e-18  1.53939936e-18\n",
      "  1.61225327e-18  1.54778807e-18  1.36368072e-18  1.46948173e-18\n",
      "  1.53585572e-18  1.53955290e-18  1.53876759e-18  1.54819588e-18\n",
      "  1.60871979e-18  1.51571321e-18  2.17203162e-18  1.40391737e-19\n",
      "  8.43053938e-19  1.23250063e-18  1.07087741e-18  1.30853883e-18\n",
      "  1.43135618e-18  1.36261836e-18  8.91484290e-19  7.35199627e-19\n",
      "  1.04852431e-18  1.17213473e-18  4.99203578e-19  4.44349316e-19\n",
      "  5.46442317e-19  9.84945006e-19  1.03997830e-18  5.95339110e-19\n",
      "  6.78618545e-19  1.02178376e-18  9.59722359e-19  1.06841976e-18\n",
      "  6.20285935e-19  5.25466836e-19  8.75550801e-19  9.64232748e-19\n",
      "  1.05110199e-18  5.59586061e-19  5.78568552e-19  9.04773278e-19\n",
      "  8.49005161e-19  5.01419333e-19  4.21578070e-19  4.70691269e-19\n",
      "  7.21888936e-19  1.07970449e-18  8.68946046e-19  6.41039281e-19\n",
      "  2.08879883e-19  1.18318024e-19  3.82387147e-19  8.77143159e-19\n",
      "  9.23790764e-19  6.12851873e-19  6.20701772e-19  6.65413173e-19\n",
      "  7.30281828e-19  6.81438795e-19  1.32030658e-18  1.19051765e-18\n",
      "  1.24530074e-18  1.09707080e-18  1.10436480e-18  9.02390995e-19\n",
      "  1.27207170e-18  1.28731378e-18  1.26535899e-18  1.07791880e-18\n",
      "  1.04288075e-18  1.10135131e-18  1.01666498e-18  1.27630641e-18\n",
      "  1.14320963e-18  1.19462797e-18  1.27310042e-18  1.16495020e-18\n",
      "  1.34198151e-18  1.48293795e-18  1.43067461e-18  1.23711013e-18\n",
      "  1.18538376e-18  1.06101470e-18  1.10501072e-18  9.74480211e-19\n",
      "  1.14230909e-18  1.32339206e-18  1.49010780e-18  1.32090696e-18\n",
      "  1.05474870e-18  1.07911437e-18  1.01681349e-18  1.01777803e-18\n",
      "  1.12453112e-18  1.25662389e-18  1.40499814e-18  1.39280325e-18\n",
      "  8.95434598e-19  8.52198154e-19  9.80818236e-19  1.13696622e-18\n",
      "  1.35704383e-18  1.36601517e-18  7.42613969e-19  9.21554181e-19\n",
      "  1.13239384e-18  1.41337137e-18  1.34680132e-18  8.31476093e-19\n",
      "  1.06524915e-18  1.19516238e-18  1.40398707e-18  1.30524282e-18\n",
      "  8.71365033e-19  9.51824368e-19  9.90510087e-19  1.14668622e-18\n",
      "  1.29376410e-18  1.36949463e-18 -7.05915543e-19  1.15687838e-18\n",
      "  1.02083941e-18  8.00285942e-19  1.03232119e-18  1.13276155e-18\n",
      "  1.11967254e-18  1.51886422e-18  1.32765732e-18  1.08104783e-18\n",
      "  8.74609968e-19  1.03820250e-18  1.32110967e-18  1.13760977e-18\n",
      "  7.86359435e-19  9.01602446e-19  1.11408634e-18  1.28162913e-18\n",
      "  1.07307064e-18  1.07912479e-18  1.04740519e-18  1.56078424e-18\n",
      "  2.18308024e-18  2.16882212e-18  2.29920176e-18  1.43361117e-18\n",
      "  2.11426168e-18  2.44270140e-18  2.82969961e-18  2.46646902e-18\n",
      "  8.08348970e-16  1.42860289e-17  8.62838991e-19  1.70667503e-18\n",
      "  8.61792921e-16  4.28293807e-18  9.84853787e-18  3.44668548e-18\n",
      "  9.25978124e-19  6.31688469e-18  1.28457349e-18  1.28274005e-18\n",
      "  3.02378585e-19  8.24558374e-19  5.61072748e-19  1.09984514e-18\n",
      "  9.18830347e-19  7.79625691e-19  9.14972165e-19  9.25401704e-19\n",
      "  9.15127184e-19  7.96513310e-19  4.30035127e-19  2.91014306e-18\n",
      "  3.07499435e-18  1.93114850e-18  1.68071858e-18  1.03095977e-18\n",
      "  1.08617561e-18  1.05884162e-18  1.79299425e-18  1.68120417e-18\n",
      "  6.79811774e-19  4.41298982e-19  9.50391850e-19  7.08420394e-19\n",
      "  1.31804334e-18  1.16527555e-18  1.24612246e-18  1.14197648e-18\n",
      "  1.08748857e-18  1.40089152e-18  7.10948458e-19  6.74884782e-19\n",
      "  9.27369667e-19  9.50572570e-19  1.03700030e-18  9.36199643e-19\n",
      "  8.96092937e-19  4.62315684e-19  2.50226781e-20 -9.28273957e-19\n",
      "  2.84956952e-19 -2.92363147e-20 -1.14575798e-19 -2.30998186e-20\n",
      "  3.82535146e-19  1.43171372e-20  3.51968259e-19 -4.51428171e-20\n",
      " -9.55271191e-19 -8.52367936e-19  6.65538295e-20  7.88897243e-20\n",
      " -2.70122206e-19  3.50878453e-20  8.64208046e-20  3.65211362e-19\n",
      "  3.68207305e-19  1.91265558e-19  9.72907719e-20 -1.39654710e-19\n",
      "  3.18150285e-19  5.26103561e-19  4.13570657e-19  4.10453947e-19\n",
      "  3.28535392e-19  4.39364301e-19  1.34156987e-18  4.39378573e-18\n",
      "  1.07474628e-18  9.79582912e-19  9.91715776e-19  9.74021163e-19\n",
      "  7.28236665e-19  5.48811032e-18 -3.95413566e-18 -3.26181215e-18\n",
      " -3.82796275e-18 -4.01773663e-18 -2.88757338e-18 -2.91015768e-18\n",
      " -2.72304546e-18 -2.33802485e-18 -2.75272072e-18 -2.18316210e-18\n",
      " -3.86481990e-18 -2.97839883e-18 -1.99096608e-18 -1.87569314e-18\n",
      " -1.70008362e-18 -1.83543051e-18 -3.14891428e-18 -3.69797263e-18\n",
      " -2.78394537e-18 -1.91412612e-18  1.12863771e-18 -2.29146696e-18\n",
      " -2.25415052e-18 -2.25931532e-18 -2.99453967e-18 -2.98069942e-18\n",
      " -3.30816245e-18 -2.02800822e-18 -2.06692255e-18 -1.99786069e-18\n",
      "  5.02281683e-19 -1.76480036e-18 -1.93959371e-18  6.47206905e-20\n",
      " -1.50217395e-18 -2.00151823e-18 -6.12198436e-19 -2.19163758e-18\n",
      "  1.95669432e-18 -2.22494396e-18  1.15476175e-18 -2.14395912e-18\n",
      " -5.32904429e-18  1.73395953e-18  1.18500451e-18  1.87379135e-18\n",
      "  2.06145954e-18  2.14530456e-18  1.09184453e-17  1.99017483e-18\n",
      "  5.42423368e-18  1.39923395e-18  1.60321761e-18  5.91922222e-18\n",
      "  2.45138163e-18  2.54863305e-17  1.79753088e-18  2.25493212e-18\n",
      "  3.07195525e-18  3.37478107e-18  2.07569087e-18  1.96987265e-18\n",
      "  1.85345555e-18  9.12498690e-18  1.79709261e-18  2.01515264e-18\n",
      "  2.36476017e-18  5.85436503e-18]\n"
     ]
    }
   ],
   "source": [
    "# nombre de variable d'optimisation : nombre d'éolienne = 642\n",
    "x = cp.Variable(n)\n",
    "# Vecteur des prix d'installation d'éolienne onshore et offshore\n",
    "cost = np.concatenate((cout_instal_onshore * np.ones(n_t), cout_instal_offshore * np.ones(n_m)))\n",
    "# Contraintes\n",
    "contraints = [x>=0, x<=1, E.T@x>=D]\n",
    "\n",
    "# Il manque la production hydro pour satisfaire la demande donc je l'ai remplacé par la consommation d'une grosse ampoule qui éclaire h24 pendant 1 an\n",
    "D = np.ones(2920)\n",
    "\n",
    "prob = cp.Problem(cp.Minimize(cost @ x), contraints)\n",
    "prob.solve()\n",
    "print(\"Le prix optimal est : \",prob.value)\n",
    "print(x.value)"
   ],
   "metadata": {
    "collapsed": false,
    "ExecuteTime": {
     "end_time": "2024-05-12T20:45:37.693202Z",
     "start_time": "2024-05-12T20:45:15.065077Z"
    }
   },
   "id": "d1d47cb59277611a",
   "execution_count": 531
  },
  {
   "cell_type": "markdown",
   "source": [
    "## Modèle 5\n",
    "Considérons le modèle 4 avec la contrainte supplémentaire suivante : sur chaque site  éolien potentiel, il faut choisir entre installer 100%, 50% ou 0% de la capacité maximale installable."
   ],
   "metadata": {
    "collapsed": false
   },
   "id": "ef02a973a0664c9d"
  },
  {
   "cell_type": "code",
   "outputs": [],
   "source": [
    "# TODO"
   ],
   "metadata": {
    "collapsed": false,
    "ExecuteTime": {
     "end_time": "2024-05-12T20:44:28.697785Z",
     "start_time": "2024-05-12T20:44:28.695088Z"
    }
   },
   "id": "88fa1342640a960b",
   "execution_count": 528
  },
  {
   "cell_type": "markdown",
   "source": [
    "## Modèle 6\n",
    "Revenons au modèle initial de la question 4 et incorporons la possibilité d’installer et d’utiliser des centrales au gaz."
   ],
   "metadata": {
    "collapsed": false
   },
   "id": "d449a9e8503c6d8"
  },
  {
   "cell_type": "code",
   "outputs": [],
   "source": [
    "# TODO"
   ],
   "metadata": {
    "collapsed": false,
    "ExecuteTime": {
     "end_time": "2024-05-12T20:44:28.701782Z",
     "start_time": "2024-05-12T20:44:28.698783Z"
    }
   },
   "id": "6bec37ed6a82ecd",
   "execution_count": 529
  }
 ],
 "metadata": {
  "kernelspec": {
   "display_name": "Python 3",
   "language": "python",
   "name": "python3"
  },
  "language_info": {
   "codemirror_mode": {
    "name": "ipython",
    "version": 2
   },
   "file_extension": ".py",
   "mimetype": "text/x-python",
   "name": "python",
   "nbconvert_exporter": "python",
   "pygments_lexer": "ipython2",
   "version": "2.7.6"
  }
 },
 "nbformat": 4,
 "nbformat_minor": 5
}
