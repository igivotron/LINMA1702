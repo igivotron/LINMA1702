{
 "cells": [
  {
   "cell_type": "markdown",
   "id": "da1a1a4c448e66b1",
   "metadata": {
    "collapsed": false
   },
   "source": [
    "# Analyse d’un modèle avec demandes, stockage hydroélectrique et gaz"
   ]
  },
  {
   "cell_type": "markdown",
   "id": "cff2b2724eb2707c",
   "metadata": {
    "collapsed": false
   },
   "source": [
    "### Import des librairies utilisées pour résoudre les problèmes"
   ]
  },
  {
   "cell_type": "code",
   "id": "initial_id",
   "metadata": {
    "collapsed": true,
    "ExecuteTime": {
     "end_time": "2024-05-16T13:19:42.489230Z",
     "start_time": "2024-05-16T13:19:42.467088Z"
    }
   },
   "source": [
    "import numpy as np\n",
    "from fileData import FileData\n",
    "import matplotlib.pyplot as plt\n",
    "\n",
    "import cvxpy as cp\n",
    "import importlib\n",
    "import results\n",
    "importlib.reload(results)"
   ],
   "outputs": [
    {
     "data": {
      "text/plain": [
       "<module 'results' from '/Users/igor/PycharmProjects/LINMA1702/P2/results.py'>"
      ]
     },
     "execution_count": 379,
     "metadata": {},
     "output_type": "execute_result"
    }
   ],
   "execution_count": 379
  },
  {
   "cell_type": "markdown",
   "id": "4347be43cae40b02",
   "metadata": {
    "collapsed": false
   },
   "source": [
    "### Variables communes"
   ]
  },
  {
   "cell_type": "code",
   "id": "dd16a4bf861852e6",
   "metadata": {
    "collapsed": false,
    "ExecuteTime": {
     "end_time": "2024-05-16T13:19:42.538220Z",
     "start_time": "2024-05-16T13:19:42.532321Z"
    }
   },
   "source": [
    "# Couts d'installation amortis des éoliennes\n",
    "cout_instal_onshore  = 168903 # Coût *amorti sur un an* pour l'installation d'un MW éolien on-shore (euros/MW/an)\n",
    "cout_instal_offshore = 300336 # Coût *amorti sur un an* pour l'installation d'un MW éolien on-shore (euros/MW/an)\n",
    "\n",
    "# Couts d'installation amortis et coûts de fonctionnement des centrales au gaz\n",
    "cout_instal_gaz = 94956 # Coût *amorti sur un an* pour l'installation d'un MW de centrale au gaz (euros/MW/an)\n",
    "cout_fonct_gaz  = 65    # Coût de fonctionnement pour la production d'un MWh par centrale au gaz (euros/MWh)\n",
    "\n",
    "# Stockage disponible par pays (en MWh)\n",
    "stockage = [0.3*1e6 , 3.2*1e6 , 0.01*1e6 , 0 , 18.4*1e6 , 9.8*1e6 , 0.24*1e6 , 7.9*1e6 , 0.005*1e6 , 84.147*1e6 , 0 , 2.6*1e6 , 1.2*1e6 , 33.756*1e6 , 8.4*1e6]\n",
    "\n",
    "# Puissances maximales de turbinage et de pompage disponibles par pays (en MW)\n",
    "turbinage = [8587 , 12009 , 1417 , 9 , 18372 , 25132 , 527 , 21117 , 1140 , 28941 , 37 , 5052 , 4269 , 16637 , 15101]\n",
    "pompage   = [5223 , 3580 , 1307 , 0 , 5347 , 4303 , 292 , 7544 , 1100 , 1396 , 0 , 1029 , 2744 , 45 , 1636 ]\n",
    "\n",
    "# Rendement pour le turbinage (sans unité)\n",
    "heta = 0.85\n",
    "\n",
    "#Nombre d'éoliennes onshore et offshore\n",
    "n_t = 487\n",
    "n_m = 155\n",
    "n = n_t + n_m"
   ],
   "outputs": [],
   "execution_count": 380
  },
  {
   "cell_type": "markdown",
   "id": "d0b78119737125f7",
   "metadata": {
    "collapsed": false
   },
   "source": [
    "### Extraction des données partagées dans les modèles"
   ]
  },
  {
   "cell_type": "code",
   "id": "acfcd0a6ccd619e4",
   "metadata": {
    "collapsed": false,
    "ExecuteTime": {
     "end_time": "2024-05-16T13:19:46.854709Z",
     "start_time": "2024-05-16T13:19:42.539975Z"
    }
   },
   "source": [
    "data = FileData()\n",
    "\n",
    "# Matrice de la consommation agrégée\n",
    "Demandes = np.sum(data.getConsoData(), axis=0)\n",
    "# Rendement des éoliennes onshore et offshore\n",
    "Rendements = data.getRend()\n",
    "# Capacités électriques éolien\n",
    "c_t = data.getOnshoreCapacites()\n",
    "c_m = data.getOffshoreCapacites()\n",
    "c = np.concatenate((c_t,c_m))\n",
    "# Apports naturels hydroélectriques agrégés\n",
    "Water = np.sum(data.getHydroData(), axis=0)"
   ],
   "outputs": [],
   "execution_count": 381
  },
  {
   "cell_type": "markdown",
   "id": "4eec1675",
   "metadata": {},
   "source": [
    "### Variables temporelles"
   ]
  },
  {
   "cell_type": "code",
   "id": "0dee1a3e",
   "metadata": {
    "ExecuteTime": {
     "end_time": "2024-05-16T13:19:46.860711Z",
     "start_time": "2024-05-16T13:19:46.857506Z"
    }
   },
   "source": [
    "# Horizon temporel de résolution\n",
    "\"\"\"\n",
    "1 jour            : 24\n",
    "1 semaine         : 168\n",
    "1 mois (30 jours) : 720\n",
    "3 mois (1/4 an)   : 2190\n",
    "6 mois (1/2 an)   : 4380 \n",
    "1 an   (365 jours): 8760\n",
    "\"\"\"\n",
    "h = 8760\n",
    "\n",
    "# Longueur de la période utilisée\n",
    "T = 3\n",
    "\n",
    "# Nombre de périodes\n",
    "t = h//T"
   ],
   "outputs": [],
   "execution_count": 382
  },
  {
   "cell_type": "code",
   "id": "e08d8ef9",
   "metadata": {
    "ExecuteTime": {
     "end_time": "2024-05-16T13:19:46.864412Z",
     "start_time": "2024-05-16T13:19:46.861696Z"
    }
   },
   "source": [
    "# Réduction à l'horizon temporel considéré\n",
    "D = Demandes[:h]\n",
    "R = Rendements[:,:h]\n",
    "W = Water[:h]"
   ],
   "outputs": [],
   "execution_count": 383
  },
  {
   "cell_type": "markdown",
   "id": "37da39102f468e12",
   "metadata": {
    "collapsed": false
   },
   "source": [
    "### Fonctions communes\n",
    "Fonctions communes à tous les modèles"
   ]
  },
  {
   "cell_type": "code",
   "id": "a4f49462ad749662",
   "metadata": {
    "collapsed": false,
    "ExecuteTime": {
     "end_time": "2024-05-16T13:19:46.871094Z",
     "start_time": "2024-05-16T13:19:46.866287Z"
    }
   },
   "source": [
    "def periodisation(A, T):\n",
    "    \"\"\"\n",
    "    Additionne toutes les valeurs de A dans une même période.\n",
    "    input A : Matrice à périodiser\n",
    "    !! Le nombre de colonnes (axis = 1) représente le temps (l'horizon temporel) !!\n",
    "    input T : Longueur de la période\n",
    "    output : Matrice A périodisée\n",
    "    \"\"\"\n",
    "    # p : nombre de période\n",
    "    # r : reste du nombre de période\n",
    "    p = A.shape[1] // T\n",
    "    r = A.shape[1] % T\n",
    "    # On coupe la matrice car sinon il n'y a pas assez de données de remplir la dernière période\n",
    "    A = A[:,:-r] if r!=0 else A\n",
    "    # C : matrice pour additionner les productions d'une période\n",
    "    C = np.zeros((A.shape[1], p))\n",
    "    for i in range(p):\n",
    "        C[i * T:(i + 1) * T, i] = 1\n",
    "    # P : matrice périodisée\n",
    "    P = np.dot(A, C)\n",
    "    return P\n",
    "\n",
    "def E_eolienne(R, c, T):\n",
    "    A = np.zeros(R.shape)\n",
    "    for i in range(len(c)):\n",
    "        A[i] = c[i] * R[i]\n",
    "        \n",
    "    A = periodisation(A, T)\n",
    "    return A"
   ],
   "outputs": [],
   "execution_count": 384
  },
  {
   "cell_type": "markdown",
   "id": "1a9d698594507b4d",
   "metadata": {
    "collapsed": false
   },
   "source": [
    "### Produits des fonctions communes\n",
    "Variables communes nécessitant un calcul"
   ]
  },
  {
   "cell_type": "code",
   "id": "566a7d20beae9778",
   "metadata": {
    "collapsed": false,
    "ExecuteTime": {
     "end_time": "2024-05-16T13:19:47.642445Z",
     "start_time": "2024-05-16T13:19:46.872755Z"
    }
   },
   "source": [
    "# Périodisation de D\n",
    "d = periodisation(np.array([D]), T)\n",
    "d = np.transpose(d)\n",
    "# E : matrice de la production éolienne par site par période\n",
    "E = E_eolienne(R, c, T)\n",
    "# s : scalaire, stockage total hydroélectrique\n",
    "s = np.sum(stockage)\n",
    "# pPompage : scalaire, puissance de pompage totale\n",
    "pPompage = np.sum(pompage)\n",
    "# pTurbinage : scalaire, puissance de turbinage totale\n",
    "pTurbinage = np.sum(turbinage)\n",
    "# Périodisation de W\n",
    "wA = periodisation(np.array([W]), T)\n",
    "wA = np.transpose(wA)\n",
    "# Matrice L\n",
    "L = np.tril(np.ones((t,t)))\n",
    "\n",
    "plt.plot(np.arange(t), wA, 'b', label=\"Apports naturels\")\n",
    "#plt.plot(np.arange(t), heta*T*pTurbinage*np.ones((t)), 'r', label=\"Max sortie\")\n",
    "plt.title(\"Apports naturels au stockage hydroélectrique\")\n",
    "plt.legend()\n",
    "plt.show()"
   ],
   "outputs": [
    {
     "data": {
      "text/plain": [
       "<Figure size 640x480 with 1 Axes>"
      ],
      "image/png": "[encoded data removed]"
     },
     "metadata": {},
     "output_type": "display_data"
    }
   ],
   "execution_count": 385
  },
  {
   "cell_type": "markdown",
   "id": "f2efa59880f83f56",
   "metadata": {
    "collapsed": false
   },
   "source": [
    "## Modèle 4\n",
    "On considère d’abord un modèle européen agrégé avec installation d’éoliennes et utilisation des capacités hydroélectriques, mais pas de centrales au gaz. Ce modèle agrégé ne possède donc qu’une seule entité pour la production, le stockage et la consommation d’électricité (additionnez les capacités hydroélectriques et les demandes de tous les pays qui la composent).\n",
    "On chercher à calculer la valeur minimale du prix moyen de l’électricité consommée."
   ]
  },
  {
   "cell_type": "markdown",
   "id": "6c3fadd6",
   "metadata": {},
   "source": [
    "### Resolution CVXPY\n",
    "Nous résolvons le premier modèle en utilisant scipy à travers cvxpy"
   ]
  },
  {
   "cell_type": "code",
   "id": "7bfbb717",
   "metadata": {
    "ExecuteTime": {
     "end_time": "2024-05-16T13:19:47.652714Z",
     "start_time": "2024-05-16T13:19:47.644233Z"
    }
   },
   "source": [
    "# Variables : portions des sites installés, quantités pompées, quantités turbinées\n",
    "x = cp.Variable((n,1))\n",
    "wP = cp.Variable((t,1))\n",
    "wT = cp.Variable((t,1))\n",
    "\n",
    "# Vecteur des prix d'installation d'éolienne onshore et offshore\n",
    "cost = (h/8760)*np.concatenate((cout_instal_onshore * c_t, cout_instal_offshore * c_m))\n",
    "\n",
    "# Contraintes\n",
    "contraintes = [\n",
    "    x >= 0, x <= 1, \n",
    "    E.T@x - wP + wT >= d,\n",
    "    0 <= s/2 + L@(wA + wP - wT/heta), s/2 + L@(wA + wP - wT/heta) <= s,\n",
    "    np.ones((1,t))@(wA + wP - wT/heta) == 0,\n",
    "    0 <= wP, wP <= T*pPompage,\n",
    "    0 <= wT, wT <= heta*T*pTurbinage,\n",
    "    wP <= E.T@x\n",
    "    ]\n",
    "\n",
    "# Probleme\n",
    "prob = cp.Problem(cp.Minimize(cost @ x), contraintes)\n"
   ],
   "outputs": [],
   "execution_count": 386
  },
  {
   "cell_type": "code",
   "id": "81c61687",
   "metadata": {
    "ExecuteTime": {
     "end_time": "2024-05-16T13:19:58.904398Z",
     "start_time": "2024-05-16T13:19:47.654310Z"
    }
   },
   "source": [
    "# Resolution\n",
    "prob.solve(solver=cp.SCIPY)\n",
    "print(prob.status)"
   ],
   "outputs": [
    {
     "name": "stderr",
     "output_type": "stream",
     "text": [
      "/Library/Frameworks/Python.framework/Versions/3.9/lib/python3.9/site-packages/cvxpy/reductions/solvers/conic_solvers/scipy_conif.py:223: UserWarning: It is best to specify the 'method' parameter within scipy_options. The main advantage of this solver is its ability to use the HiGHS LP solvers via scipy.optimize.linprog(), which requires a SciPy version >= 1.6.1.\n",
      "\n",
      "The default method 'highs' will be used in this case.\n",
      "\n",
      "  warnings.warn(\"It is best to specify the 'method' parameter \"\n"
     ]
    },
    {
     "ename": "KeyboardInterrupt",
     "evalue": "",
     "output_type": "error",
     "traceback": [
      "\u001B[0;31m---------------------------------------------------------------------------\u001B[0m",
      "\u001B[0;31mKeyboardInterrupt\u001B[0m                         Traceback (most recent call last)",
      "Cell \u001B[0;32mIn[387], line 2\u001B[0m\n\u001B[1;32m      1\u001B[0m \u001B[38;5;66;03m# Resolution\u001B[39;00m\n\u001B[0;32m----> 2\u001B[0m \u001B[43mprob\u001B[49m\u001B[38;5;241;43m.\u001B[39;49m\u001B[43msolve\u001B[49m\u001B[43m(\u001B[49m\u001B[43msolver\u001B[49m\u001B[38;5;241;43m=\u001B[39;49m\u001B[43mcp\u001B[49m\u001B[38;5;241;43m.\u001B[39;49m\u001B[43mSCIPY\u001B[49m\u001B[43m)\u001B[49m\n\u001B[1;32m      3\u001B[0m \u001B[38;5;28mprint\u001B[39m(prob\u001B[38;5;241m.\u001B[39mstatus)\n",
      "File \u001B[0;32m/Library/Frameworks/Python.framework/Versions/3.9/lib/python3.9/site-packages/cvxpy/problems/problem.py:503\u001B[0m, in \u001B[0;36mProblem.solve\u001B[0;34m(self, *args, **kwargs)\u001B[0m\n\u001B[1;32m    501\u001B[0m \u001B[38;5;28;01melse\u001B[39;00m:\n\u001B[1;32m    502\u001B[0m     solve_func \u001B[38;5;241m=\u001B[39m Problem\u001B[38;5;241m.\u001B[39m_solve\n\u001B[0;32m--> 503\u001B[0m \u001B[38;5;28;01mreturn\u001B[39;00m \u001B[43msolve_func\u001B[49m\u001B[43m(\u001B[49m\u001B[38;5;28;43mself\u001B[39;49m\u001B[43m,\u001B[49m\u001B[43m \u001B[49m\u001B[38;5;241;43m*\u001B[39;49m\u001B[43margs\u001B[49m\u001B[43m,\u001B[49m\u001B[43m \u001B[49m\u001B[38;5;241;43m*\u001B[39;49m\u001B[38;5;241;43m*\u001B[39;49m\u001B[43mkwargs\u001B[49m\u001B[43m)\u001B[49m\n",
      "File \u001B[0;32m/Library/Frameworks/Python.framework/Versions/3.9/lib/python3.9/site-packages/cvxpy/problems/problem.py:1086\u001B[0m, in \u001B[0;36mProblem._solve\u001B[0;34m(self, solver, warm_start, verbose, gp, qcp, requires_grad, enforce_dpp, ignore_dpp, canon_backend, **kwargs)\u001B[0m\n\u001B[1;32m   1084\u001B[0m \u001B[38;5;28;01mif\u001B[39;00m solver_verbose \u001B[38;5;129;01mand\u001B[39;00m (\u001B[38;5;129;01mnot\u001B[39;00m verbose):\n\u001B[1;32m   1085\u001B[0m     \u001B[38;5;28mprint\u001B[39m(_NUM_SOLVER_STR)\n\u001B[0;32m-> 1086\u001B[0m solution \u001B[38;5;241m=\u001B[39m \u001B[43msolving_chain\u001B[49m\u001B[38;5;241;43m.\u001B[39;49m\u001B[43msolve_via_data\u001B[49m\u001B[43m(\u001B[49m\n\u001B[1;32m   1087\u001B[0m \u001B[43m    \u001B[49m\u001B[38;5;28;43mself\u001B[39;49m\u001B[43m,\u001B[49m\u001B[43m \u001B[49m\u001B[43mdata\u001B[49m\u001B[43m,\u001B[49m\u001B[43m \u001B[49m\u001B[43mwarm_start\u001B[49m\u001B[43m,\u001B[49m\u001B[43m \u001B[49m\u001B[43msolver_verbose\u001B[49m\u001B[43m,\u001B[49m\u001B[43m \u001B[49m\u001B[43mkwargs\u001B[49m\u001B[43m)\u001B[49m\n\u001B[1;32m   1088\u001B[0m end \u001B[38;5;241m=\u001B[39m time\u001B[38;5;241m.\u001B[39mtime()\n\u001B[1;32m   1089\u001B[0m \u001B[38;5;28mself\u001B[39m\u001B[38;5;241m.\u001B[39m_solve_time \u001B[38;5;241m=\u001B[39m end \u001B[38;5;241m-\u001B[39m start\n",
      "File \u001B[0;32m/Library/Frameworks/Python.framework/Versions/3.9/lib/python3.9/site-packages/cvxpy/reductions/solvers/solving_chain.py:473\u001B[0m, in \u001B[0;36mSolvingChain.solve_via_data\u001B[0;34m(self, problem, data, warm_start, verbose, solver_opts)\u001B[0m\n\u001B[1;32m    437\u001B[0m \u001B[38;5;28;01mdef\u001B[39;00m \u001B[38;5;21msolve_via_data\u001B[39m(\u001B[38;5;28mself\u001B[39m, problem, data, warm_start: \u001B[38;5;28mbool\u001B[39m \u001B[38;5;241m=\u001B[39m \u001B[38;5;28;01mFalse\u001B[39;00m, verbose: \u001B[38;5;28mbool\u001B[39m \u001B[38;5;241m=\u001B[39m \u001B[38;5;28;01mFalse\u001B[39;00m,\n\u001B[1;32m    438\u001B[0m                    solver_opts\u001B[38;5;241m=\u001B[39m{}):\n\u001B[1;32m    439\u001B[0m     \u001B[38;5;124;03m\"\"\"Solves the problem using the data output by the an apply invocation.\u001B[39;00m\n\u001B[1;32m    440\u001B[0m \n\u001B[1;32m    441\u001B[0m \u001B[38;5;124;03m    The semantics are:\u001B[39;00m\n\u001B[0;32m   (...)\u001B[0m\n\u001B[1;32m    471\u001B[0m \u001B[38;5;124;03m        a Solution object.\u001B[39;00m\n\u001B[1;32m    472\u001B[0m \u001B[38;5;124;03m    \"\"\"\u001B[39;00m\n\u001B[0;32m--> 473\u001B[0m     \u001B[38;5;28;01mreturn\u001B[39;00m \u001B[38;5;28;43mself\u001B[39;49m\u001B[38;5;241;43m.\u001B[39;49m\u001B[43msolver\u001B[49m\u001B[38;5;241;43m.\u001B[39;49m\u001B[43msolve_via_data\u001B[49m\u001B[43m(\u001B[49m\u001B[43mdata\u001B[49m\u001B[43m,\u001B[49m\u001B[43m \u001B[49m\u001B[43mwarm_start\u001B[49m\u001B[43m,\u001B[49m\u001B[43m \u001B[49m\u001B[43mverbose\u001B[49m\u001B[43m,\u001B[49m\n\u001B[1;32m    474\u001B[0m \u001B[43m                                      \u001B[49m\u001B[43msolver_opts\u001B[49m\u001B[43m,\u001B[49m\u001B[43m \u001B[49m\u001B[43mproblem\u001B[49m\u001B[38;5;241;43m.\u001B[39;49m\u001B[43m_solver_cache\u001B[49m\u001B[43m)\u001B[49m\n",
      "File \u001B[0;32m/Library/Frameworks/Python.framework/Versions/3.9/lib/python3.9/site-packages/cvxpy/reductions/solvers/conic_solvers/scipy_conif.py:209\u001B[0m, in \u001B[0;36mSCIPY.solve_via_data\u001B[0;34m(self, data, warm_start, verbose, solver_opts, solver_cache)\u001B[0m\n\u001B[1;32m    203\u001B[0m     solution \u001B[38;5;241m=\u001B[39m opt\u001B[38;5;241m.\u001B[39mmilp(data[s\u001B[38;5;241m.\u001B[39mC], \n\u001B[1;32m    204\u001B[0m                         constraints\u001B[38;5;241m=\u001B[39mconstraints,\n\u001B[1;32m    205\u001B[0m                         options\u001B[38;5;241m=\u001B[39msolver_opts[\u001B[38;5;124m'\u001B[39m\u001B[38;5;124mscipy_options\u001B[39m\u001B[38;5;124m'\u001B[39m],\n\u001B[1;32m    206\u001B[0m                         integrality\u001B[38;5;241m=\u001B[39mintegrality,\n\u001B[1;32m    207\u001B[0m                         bounds\u001B[38;5;241m=\u001B[39mbounds)\n\u001B[1;32m    208\u001B[0m \u001B[38;5;28;01melse\u001B[39;00m:\n\u001B[0;32m--> 209\u001B[0m     solution \u001B[38;5;241m=\u001B[39m \u001B[43mopt\u001B[49m\u001B[38;5;241;43m.\u001B[39;49m\u001B[43mlinprog\u001B[49m\u001B[43m(\u001B[49m\u001B[43mdata\u001B[49m\u001B[43m[\u001B[49m\u001B[43ms\u001B[49m\u001B[38;5;241;43m.\u001B[39;49m\u001B[43mC\u001B[49m\u001B[43m]\u001B[49m\u001B[43m,\u001B[49m\u001B[43m \u001B[49m\u001B[43mA_ub\u001B[49m\u001B[38;5;241;43m=\u001B[39;49m\u001B[43mdata\u001B[49m\u001B[43m[\u001B[49m\u001B[43ms\u001B[49m\u001B[38;5;241;43m.\u001B[39;49m\u001B[43mG\u001B[49m\u001B[43m]\u001B[49m\u001B[43m,\u001B[49m\u001B[43m \u001B[49m\u001B[43mb_ub\u001B[49m\u001B[38;5;241;43m=\u001B[39;49m\u001B[43mdata\u001B[49m\u001B[43m[\u001B[49m\u001B[43ms\u001B[49m\u001B[38;5;241;43m.\u001B[39;49m\u001B[43mH\u001B[49m\u001B[43m]\u001B[49m\u001B[43m,\u001B[49m\n\u001B[1;32m    210\u001B[0m \u001B[43m                           \u001B[49m\u001B[43mA_eq\u001B[49m\u001B[38;5;241;43m=\u001B[39;49m\u001B[43mdata\u001B[49m\u001B[43m[\u001B[49m\u001B[43ms\u001B[49m\u001B[38;5;241;43m.\u001B[39;49m\u001B[43mA\u001B[49m\u001B[43m]\u001B[49m\u001B[43m,\u001B[49m\u001B[43m \u001B[49m\u001B[43mb_eq\u001B[49m\u001B[38;5;241;43m=\u001B[39;49m\u001B[43mdata\u001B[49m\u001B[43m[\u001B[49m\u001B[43ms\u001B[49m\u001B[38;5;241;43m.\u001B[39;49m\u001B[43mB\u001B[49m\u001B[43m]\u001B[49m\u001B[43m,\u001B[49m\u001B[43m \u001B[49m\u001B[43mmethod\u001B[49m\u001B[38;5;241;43m=\u001B[39;49m\u001B[43mmeth\u001B[49m\u001B[43m,\u001B[49m\n\u001B[1;32m    211\u001B[0m \u001B[43m                           \u001B[49m\u001B[43moptions\u001B[49m\u001B[38;5;241;43m=\u001B[39;49m\u001B[43msolver_opts\u001B[49m\u001B[43m[\u001B[49m\u001B[38;5;124;43m'\u001B[39;49m\u001B[38;5;124;43mscipy_options\u001B[39;49m\u001B[38;5;124;43m'\u001B[39;49m\u001B[43m]\u001B[49m\u001B[43m,\u001B[49m\n\u001B[1;32m    212\u001B[0m \u001B[43m                           \u001B[49m\u001B[43mbounds\u001B[49m\u001B[38;5;241;43m=\u001B[39;49m\u001B[43mbounds\u001B[49m\u001B[43m)\u001B[49m\n\u001B[1;32m    214\u001B[0m \u001B[38;5;66;03m# Replace `scipy_options` method to avoid future warnings.\u001B[39;00m\n\u001B[1;32m    215\u001B[0m solver_opts[\u001B[38;5;124m\"\u001B[39m\u001B[38;5;124mscipy_options\u001B[39m\u001B[38;5;124m\"\u001B[39m][\u001B[38;5;124m\"\u001B[39m\u001B[38;5;124mmethod\u001B[39m\u001B[38;5;124m\"\u001B[39m] \u001B[38;5;241m=\u001B[39m meth\n",
      "File \u001B[0;32m/Library/Frameworks/Python.framework/Versions/3.9/lib/python3.9/site-packages/scipy/optimize/_linprog.py:618\u001B[0m, in \u001B[0;36mlinprog\u001B[0;34m(c, A_ub, b_ub, A_eq, b_eq, bounds, method, callback, options, x0)\u001B[0m\n\u001B[1;32m    613\u001B[0m     \u001B[38;5;28;01mraise\u001B[39;00m \u001B[38;5;167;01mNotImplementedError\u001B[39;00m(\u001B[38;5;124m\"\u001B[39m\u001B[38;5;124mHiGHS solvers do not support the \u001B[39m\u001B[38;5;124m\"\u001B[39m\n\u001B[1;32m    614\u001B[0m                               \u001B[38;5;124m\"\u001B[39m\u001B[38;5;124mcallback interface.\u001B[39m\u001B[38;5;124m\"\u001B[39m)\n\u001B[1;32m    615\u001B[0m highs_solvers \u001B[38;5;241m=\u001B[39m {\u001B[38;5;124m'\u001B[39m\u001B[38;5;124mhighs-ipm\u001B[39m\u001B[38;5;124m'\u001B[39m: \u001B[38;5;124m'\u001B[39m\u001B[38;5;124mipm\u001B[39m\u001B[38;5;124m'\u001B[39m, \u001B[38;5;124m'\u001B[39m\u001B[38;5;124mhighs-ds\u001B[39m\u001B[38;5;124m'\u001B[39m: \u001B[38;5;124m'\u001B[39m\u001B[38;5;124msimplex\u001B[39m\u001B[38;5;124m'\u001B[39m,\n\u001B[1;32m    616\u001B[0m                  \u001B[38;5;124m'\u001B[39m\u001B[38;5;124mhighs\u001B[39m\u001B[38;5;124m'\u001B[39m: \u001B[38;5;28;01mNone\u001B[39;00m}\n\u001B[0;32m--> 618\u001B[0m sol \u001B[38;5;241m=\u001B[39m \u001B[43m_linprog_highs\u001B[49m\u001B[43m(\u001B[49m\u001B[43mlp\u001B[49m\u001B[43m,\u001B[49m\u001B[43m \u001B[49m\u001B[43msolver\u001B[49m\u001B[38;5;241;43m=\u001B[39;49m\u001B[43mhighs_solvers\u001B[49m\u001B[43m[\u001B[49m\u001B[43mmeth\u001B[49m\u001B[43m]\u001B[49m\u001B[43m,\u001B[49m\n\u001B[1;32m    619\u001B[0m \u001B[43m                     \u001B[49m\u001B[38;5;241;43m*\u001B[39;49m\u001B[38;5;241;43m*\u001B[39;49m\u001B[43msolver_options\u001B[49m\u001B[43m)\u001B[49m\n\u001B[1;32m    620\u001B[0m sol[\u001B[38;5;124m'\u001B[39m\u001B[38;5;124mstatus\u001B[39m\u001B[38;5;124m'\u001B[39m], sol[\u001B[38;5;124m'\u001B[39m\u001B[38;5;124mmessage\u001B[39m\u001B[38;5;124m'\u001B[39m] \u001B[38;5;241m=\u001B[39m (\n\u001B[1;32m    621\u001B[0m     _check_result(sol[\u001B[38;5;124m'\u001B[39m\u001B[38;5;124mx\u001B[39m\u001B[38;5;124m'\u001B[39m], sol[\u001B[38;5;124m'\u001B[39m\u001B[38;5;124mfun\u001B[39m\u001B[38;5;124m'\u001B[39m], sol[\u001B[38;5;124m'\u001B[39m\u001B[38;5;124mstatus\u001B[39m\u001B[38;5;124m'\u001B[39m], sol[\u001B[38;5;124m'\u001B[39m\u001B[38;5;124mslack\u001B[39m\u001B[38;5;124m'\u001B[39m],\n\u001B[1;32m    622\u001B[0m                   sol[\u001B[38;5;124m'\u001B[39m\u001B[38;5;124mcon\u001B[39m\u001B[38;5;124m'\u001B[39m], lp\u001B[38;5;241m.\u001B[39mbounds, tol, sol[\u001B[38;5;124m'\u001B[39m\u001B[38;5;124mmessage\u001B[39m\u001B[38;5;124m'\u001B[39m]))\n\u001B[1;32m    623\u001B[0m sol[\u001B[38;5;124m'\u001B[39m\u001B[38;5;124msuccess\u001B[39m\u001B[38;5;124m'\u001B[39m] \u001B[38;5;241m=\u001B[39m sol[\u001B[38;5;124m'\u001B[39m\u001B[38;5;124mstatus\u001B[39m\u001B[38;5;124m'\u001B[39m] \u001B[38;5;241m==\u001B[39m \u001B[38;5;241m0\u001B[39m\n",
      "File \u001B[0;32m/Library/Frameworks/Python.framework/Versions/3.9/lib/python3.9/site-packages/scipy/optimize/_linprog_highs.py:349\u001B[0m, in \u001B[0;36m_linprog_highs\u001B[0;34m(lp, solver, time_limit, presolve, disp, maxiter, dual_feasibility_tolerance, primal_feasibility_tolerance, ipm_optimality_tolerance, simplex_dual_edge_weight_strategy, **unknown_options)\u001B[0m\n\u001B[1;32m    347\u001B[0m \u001B[38;5;28;01melse\u001B[39;00m:\n\u001B[1;32m    348\u001B[0m     A \u001B[38;5;241m=\u001B[39m np\u001B[38;5;241m.\u001B[39mvstack((A_ub, A_eq))\n\u001B[0;32m--> 349\u001B[0m A \u001B[38;5;241m=\u001B[39m \u001B[43mcsc_matrix\u001B[49m\u001B[43m(\u001B[49m\u001B[43mA\u001B[49m\u001B[43m)\u001B[49m\n\u001B[1;32m    351\u001B[0m options \u001B[38;5;241m=\u001B[39m {\n\u001B[1;32m    352\u001B[0m     \u001B[38;5;124m'\u001B[39m\u001B[38;5;124mpresolve\u001B[39m\u001B[38;5;124m'\u001B[39m: presolve,\n\u001B[1;32m    353\u001B[0m     \u001B[38;5;124m'\u001B[39m\u001B[38;5;124msense\u001B[39m\u001B[38;5;124m'\u001B[39m: \u001B[38;5;241m1\u001B[39m,  \u001B[38;5;66;03m# minimization\u001B[39;00m\n\u001B[0;32m   (...)\u001B[0m\n\u001B[1;32m    365\u001B[0m     \u001B[38;5;124m'\u001B[39m\u001B[38;5;124msimplex_iteration_limit\u001B[39m\u001B[38;5;124m'\u001B[39m: maxiter,\n\u001B[1;32m    366\u001B[0m }\n\u001B[1;32m    368\u001B[0m \u001B[38;5;66;03m# np.inf doesn't work; use very large constant\u001B[39;00m\n",
      "File \u001B[0;32m/Library/Frameworks/Python.framework/Versions/3.9/lib/python3.9/site-packages/scipy/sparse/_compressed.py:33\u001B[0m, in \u001B[0;36m_cs_matrix.__init__\u001B[0;34m(self, arg1, shape, dtype, copy)\u001B[0m\n\u001B[1;32m     31\u001B[0m         arg1 \u001B[38;5;241m=\u001B[39m arg1\u001B[38;5;241m.\u001B[39mcopy()\n\u001B[1;32m     32\u001B[0m     \u001B[38;5;28;01melse\u001B[39;00m:\n\u001B[0;32m---> 33\u001B[0m         arg1 \u001B[38;5;241m=\u001B[39m \u001B[43marg1\u001B[49m\u001B[38;5;241;43m.\u001B[39;49m\u001B[43masformat\u001B[49m\u001B[43m(\u001B[49m\u001B[38;5;28;43mself\u001B[39;49m\u001B[38;5;241;43m.\u001B[39;49m\u001B[43mformat\u001B[49m\u001B[43m)\u001B[49m\n\u001B[1;32m     34\u001B[0m     \u001B[38;5;28mself\u001B[39m\u001B[38;5;241m.\u001B[39m_set_self(arg1)\n\u001B[1;32m     36\u001B[0m \u001B[38;5;28;01melif\u001B[39;00m \u001B[38;5;28misinstance\u001B[39m(arg1, \u001B[38;5;28mtuple\u001B[39m):\n",
      "File \u001B[0;32m/Library/Frameworks/Python.framework/Versions/3.9/lib/python3.9/site-packages/scipy/sparse/_base.py:376\u001B[0m, in \u001B[0;36mspmatrix.asformat\u001B[0;34m(self, format, copy)\u001B[0m\n\u001B[1;32m    374\u001B[0m \u001B[38;5;66;03m# Forward the copy kwarg, if it's accepted.\u001B[39;00m\n\u001B[1;32m    375\u001B[0m \u001B[38;5;28;01mtry\u001B[39;00m:\n\u001B[0;32m--> 376\u001B[0m     \u001B[38;5;28;01mreturn\u001B[39;00m \u001B[43mconvert_method\u001B[49m\u001B[43m(\u001B[49m\u001B[43mcopy\u001B[49m\u001B[38;5;241;43m=\u001B[39;49m\u001B[43mcopy\u001B[49m\u001B[43m)\u001B[49m\n\u001B[1;32m    377\u001B[0m \u001B[38;5;28;01mexcept\u001B[39;00m \u001B[38;5;167;01mTypeError\u001B[39;00m:\n\u001B[1;32m    378\u001B[0m     \u001B[38;5;28;01mreturn\u001B[39;00m convert_method()\n",
      "File \u001B[0;32m/Library/Frameworks/Python.framework/Versions/3.9/lib/python3.9/site-packages/scipy/sparse/_coo.py:363\u001B[0m, in \u001B[0;36mcoo_matrix.tocsc\u001B[0;34m(self, copy)\u001B[0m\n\u001B[1;32m    360\u001B[0m indices \u001B[38;5;241m=\u001B[39m np\u001B[38;5;241m.\u001B[39mempty_like(row, dtype\u001B[38;5;241m=\u001B[39midx_dtype)\n\u001B[1;32m    361\u001B[0m data \u001B[38;5;241m=\u001B[39m np\u001B[38;5;241m.\u001B[39mempty_like(\u001B[38;5;28mself\u001B[39m\u001B[38;5;241m.\u001B[39mdata, dtype\u001B[38;5;241m=\u001B[39mupcast(\u001B[38;5;28mself\u001B[39m\u001B[38;5;241m.\u001B[39mdtype))\n\u001B[0;32m--> 363\u001B[0m \u001B[43mcoo_tocsr\u001B[49m\u001B[43m(\u001B[49m\u001B[43mN\u001B[49m\u001B[43m,\u001B[49m\u001B[43m \u001B[49m\u001B[43mM\u001B[49m\u001B[43m,\u001B[49m\u001B[43m \u001B[49m\u001B[38;5;28;43mself\u001B[39;49m\u001B[38;5;241;43m.\u001B[39;49m\u001B[43mnnz\u001B[49m\u001B[43m,\u001B[49m\u001B[43m \u001B[49m\u001B[43mcol\u001B[49m\u001B[43m,\u001B[49m\u001B[43m \u001B[49m\u001B[43mrow\u001B[49m\u001B[43m,\u001B[49m\u001B[43m \u001B[49m\u001B[38;5;28;43mself\u001B[39;49m\u001B[38;5;241;43m.\u001B[39;49m\u001B[43mdata\u001B[49m\u001B[43m,\u001B[49m\n\u001B[1;32m    364\u001B[0m \u001B[43m          \u001B[49m\u001B[43mindptr\u001B[49m\u001B[43m,\u001B[49m\u001B[43m \u001B[49m\u001B[43mindices\u001B[49m\u001B[43m,\u001B[49m\u001B[43m \u001B[49m\u001B[43mdata\u001B[49m\u001B[43m)\u001B[49m\n\u001B[1;32m    366\u001B[0m x \u001B[38;5;241m=\u001B[39m \u001B[38;5;28mself\u001B[39m\u001B[38;5;241m.\u001B[39m_csc_container((data, indices, indptr), shape\u001B[38;5;241m=\u001B[39m\u001B[38;5;28mself\u001B[39m\u001B[38;5;241m.\u001B[39mshape)\n\u001B[1;32m    367\u001B[0m \u001B[38;5;28;01mif\u001B[39;00m \u001B[38;5;129;01mnot\u001B[39;00m \u001B[38;5;28mself\u001B[39m\u001B[38;5;241m.\u001B[39mhas_canonical_format:\n",
      "\u001B[0;31mKeyboardInterrupt\u001B[0m: "
     ]
    }
   ],
   "execution_count": 387
  },
  {
   "cell_type": "code",
   "id": "a68b282f",
   "metadata": {},
   "source": [
    "# Get values\n",
    "prix_total = prob.value\n",
    "x = x.value\n",
    "wP = wP.value\n",
    "wT = wT.value\n",
    "\n",
    "# Vecteur d'énergie éolienne produite\n",
    "e = E.T@x\n",
    "\n",
    "# Capacités installées\n",
    "cap_install = c@x"
   ],
   "outputs": [],
   "execution_count": null
  },
  {
   "cell_type": "markdown",
   "id": "8e1fb4e7",
   "metadata": {},
   "source": "### Résultats"
  },
  {
   "cell_type": "code",
   "id": "937d5620",
   "metadata": {},
   "source": [
    "results.print_values(prix_total, np.sum(e), np.sum(wA), np.sum(d))\n",
    "results.occupation_bassin(t, s, wA, wP, wT)\n",
    "results.sources_eng(t, e, wP, wT, d)"
   ],
   "outputs": [],
   "execution_count": null
  },
  {
   "cell_type": "markdown",
   "id": "ef02a973a0664c9d",
   "metadata": {
    "collapsed": false
   },
   "source": [
    "## Modèle 5\n",
    "Considérons le modèle 4 avec la contrainte supplémentaire suivante : sur chaque site  éolien potentiel, il faut choisir entre installer 100%, 50% ou 0% de la capacité maximale installable."
   ]
  },
  {
   "cell_type": "code",
   "id": "88fa1342640a960b",
   "metadata": {
    "collapsed": false
   },
   "source": [
    "# Variables : portions des sites installés, quantités pompées, quantités turbinées\n",
    "y = cp.Variable((n,1), integer=True)\n",
    "x = y/2\n",
    "\n",
    "wP = cp.Variable((t,1))\n",
    "wT = cp.Variable((t,1))\n",
    "\n",
    "# Vecteur des prix d'installation d'éolienne onshore et offshore\n",
    "cost = (h/8760)*np.concatenate((cout_instal_onshore * c_t, cout_instal_offshore * c_m))\n",
    "\n",
    "# Contraintes\n",
    "contraintes = [\n",
    "    E.T@(x) - wP + wT*heta >= d,\n",
    "    0 <= s/2 + L@(wA + wP - wT), s/2 + L@(wA + wP - wT) <= s,\n",
    "    np.ones((1,t))@(wA + wP - wT) == 0,\n",
    "    0 <= wP, wP <= T*pPompage,\n",
    "    0 <= wT, wT <= heta*T*pTurbinage,\n",
    "    wP <= E.T@(x),\n",
    "    0 <= y, y<= 2\n",
    "    ]\n",
    "\n",
    "# Problemex\n",
    "prob = cp.Problem(cp.Minimize(cost @ (x)), contraintes)"
   ],
   "outputs": [],
   "execution_count": null
  },
  {
   "cell_type": "code",
   "id": "705a63e4",
   "metadata": {},
   "source": [
    "prob.solve(solver=cp.CBC)\n",
    "print(prob.status)"
   ],
   "outputs": [],
   "execution_count": null
  },
  {
   "cell_type": "code",
   "id": "f7483a00",
   "metadata": {},
   "source": [
    "# Get values\n",
    "prix_total = prob.value\n",
    "wP = wP.value\n",
    "wT = wT.value\n",
    "\n",
    "# Vecteur d'énergie éolienne produite\n",
    "\n",
    "e = E.T@x.value\n",
    "# Capacités installées\n",
    "cap_install = c@x.value"
   ],
   "outputs": [],
   "execution_count": null
  },
  {
   "cell_type": "markdown",
   "id": "18eab847",
   "metadata": {},
   "source": "### Resultats"
  },
  {
   "cell_type": "code",
   "id": "a126f066",
   "metadata": {},
   "source": [
    "results.print_values(prix_total, np.sum(e), np.sum(wA), np.sum(d))\n",
    "results.occupation_bassin(t, s, wA, wP, wT)\n",
    "results.sources_eng(t, e, wP, wT, d)"
   ],
   "outputs": [],
   "execution_count": null
  },
  {
   "cell_type": "markdown",
   "id": "d449a9e8503c6d8",
   "metadata": {
    "collapsed": false
   },
   "source": [
    "## Modèle 6\n",
    "Revenons au modèle initial de la question 4 et incorporons la possibilité d’installer et d’utiliser des centrales au gaz."
   ]
  },
  {
   "metadata": {},
   "cell_type": "markdown",
   "source": "## Résolution du problème",
   "id": "98224ca3506425b6"
  },
  {
   "cell_type": "code",
   "id": "8a759440",
   "metadata": {},
   "source": [
    "# Variables : portions des sites installés, quantités pompées, quantités turbinées, puissance installée, énergie produite\n",
    "x = cp.Variable((n,1))\n",
    "wP = cp.Variable((t,1))\n",
    "wT = cp.Variable((t,1))\n",
    "pig = cp.Variable((1,1)) # puissance installée centrale au gaz (MW)\n",
    "epg = cp.Variable((t,1)) # energie produite par période centrale au gaz (MWh)\n",
    "\n",
    "# Vecteur des prix d'installation d'éolienne onshore et offshore\n",
    "cost_eol = ((h/8760)*np.concatenate((cout_instal_onshore * c_t, cout_instal_offshore * c_m)))@x\n",
    "\n",
    "# Prix d'installation et d'utilisation centrale au gaz\n",
    "cig = (h/8760)*cout_instal_gaz*pig\n",
    "cug = (cout_fonct_gaz*np.ones((1,t)))@epg\n",
    "\n",
    "# Contraintes\n",
    "contraintes = [\n",
    "    x >= 0, x <= 1, \n",
    "    pig >= 0,\n",
    "    epg >= 0,\n",
    "    E.T@x - wP + wT*heta + epg >= d,\n",
    "    0 <= s/2 + L@(wA + wP - wT), s/2 + L@(wA + wP - wT) <= s,\n",
    "    np.ones((1,t))@(wA + wP - wT) == 0,\n",
    "    0 <= wP, wP <= T*pPompage,\n",
    "    0 <= wT, wT <= heta*T*pTurbinage,\n",
    "    epg <= T*pig,\n",
    "    wP <= E.T@x + epg\n",
    "    ]\n",
    "\n",
    "# Probleme\n",
    "prob = cp.Problem(cp.Minimize(cost_eol + cig + cug), contraintes)\n"
   ],
   "outputs": [],
   "execution_count": null
  },
  {
   "cell_type": "code",
   "id": "40122271",
   "metadata": {},
   "source": [
    "# Resolution\n",
    "prob.solve(solver=cp.SCIPY)\n",
    "print(prob.status)"
   ],
   "outputs": [],
   "execution_count": null
  },
  {
   "cell_type": "code",
   "id": "918de2d5",
   "metadata": {},
   "source": [
    "# Get values\n",
    "prix_total = prob.value\n",
    "x = x.value\n",
    "wP = wP.value\n",
    "wT = wT.value\n",
    "pig = pig.value\n",
    "epg = epg.value\n",
    "\n",
    "# Vecteur d'énergie éolienne produite\n",
    "e = E.T@x\n",
    "\n",
    "# Capacités installées\n",
    "cap_install = c@x"
   ],
   "outputs": [],
   "execution_count": null
  },
  {
   "metadata": {},
   "cell_type": "markdown",
   "source": "### Résultats",
   "id": "16aad8f10de08187"
  },
  {
   "cell_type": "code",
   "id": "592cc0f6",
   "metadata": {},
   "source": [
    "results.print_values(prix_total, np.sum(e), np.sum(wA), np.sum(d), e_gaz_produite=np.sum(epg))\n",
    "results.occupation_bassin(t, s, wA, wP, wT)\n",
    "results.sources_eng(t, e, wP, wT, d, epg=epg)"
   ],
   "outputs": [],
   "execution_count": null
  }
 ],
 "metadata": {
  "kernelspec": {
   "display_name": "Python 3",
   "language": "python",
   "name": "python3"
  },
  "language_info": {
   "codemirror_mode": {
    "name": "ipython",
    "version": 3
   },
   "file_extension": ".py",
   "mimetype": "text/x-python",
   "name": "python",
   "nbconvert_exporter": "python",
   "pygments_lexer": "ipython3",
   "version": "3.9.13"
  }
 },
 "nbformat": 4,
 "nbformat_minor": 5
}
