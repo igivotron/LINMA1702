{
 "cells": [
  {
   "cell_type": "markdown",
   "source": [
    "# Analyse d’un modèle avec demandes, stockage hydroélectrique et gaz"
   ],
   "metadata": {
    "collapsed": false
   },
   "id": "da1a1a4c448e66b1"
  },
  {
   "cell_type": "markdown",
   "source": [
    "### Import des librairies utilisées pour résoudre les problèmes"
   ],
   "metadata": {
    "collapsed": false
   },
   "id": "cff2b2724eb2707c"
  },
  {
   "cell_type": "code",
   "id": "initial_id",
   "metadata": {
    "collapsed": true,
    "ExecuteTime": {
     "end_time": "2024-05-15T07:31:36.674574Z",
     "start_time": "2024-05-15T07:31:36.661827Z"
    }
   },
   "source": [
    "import numpy as np\n",
    "from fileData import FileData\n",
    "import matplotlib.pyplot as plt\n",
    "import cvxpy as cp"
   ],
   "outputs": [],
   "execution_count": 23
  },
  {
   "cell_type": "markdown",
   "source": [
    "### Variables communes"
   ],
   "metadata": {
    "collapsed": false
   },
   "id": "4347be43cae40b02"
  },
  {
   "cell_type": "code",
   "source": [
    "# Couts d'installation amortis des éoliennes\n",
    "cout_instal_onshore  = 168903 # Coût *amorti sur un an* pour l'installation d'un MW éolien on-shore (euros/MW/an)\n",
    "cout_instal_offshore = 300336 # Coût *amorti sur un an* pour l'installation d'un MW éolien on-shore (euros/MW/an)\n",
    "\n",
    "# Couts d'installation amortis et coûts de fonctionnement des centrales au gaz\n",
    "cout_instal_gaz = 94956 # Coût *amorti sur un an* pour l'installation d'un MW de centrale au gaz (euros/MW/an)\n",
    "cout_fonct_gaz  = 65    # Coût de fonctionnement pour la production d'un MWh par centrale au gaz (euros/MWh)\n",
    "\n",
    "# Stockage disponible par pays (en MWh)\n",
    "stockage = [0.3*1e6 , 3.2*1e6 , 0.01*1e6 , 0 , 18.4*1e6 , 9.8*1e6 , 0.24*1e6 , 7.9*1e6 , 0.005*1e6 , 84.147*1e6 , 0 , 2.6*1e6 , 1.2*1e6 , 33.756*1e6 , 8.4*1e6]\n",
    "\n",
    "# Puissances maximales de turbinage et de pompage disponibles par pays (en MW)\n",
    "turbinage = [8587 , 12009 , 1417 , 9 , 18372 , 25132 , 527 , 21117 , 1140 , 28941 , 37 , 5052 , 4269 , 16637 , 15101]\n",
    "pompage   = [5223 , 3580 , 1307 , 0 , 5347 , 4303 , 292 , 7544 , 1100 , 1396 , 0 , 1029 , 2744 , 45 , 1636 ]\n",
    "\n",
    "# Rendement pour le turbinage (sans unité)\n",
    "heta = 0.85\n",
    "\n",
    "# Longueur de la période utilisée\n",
    "T = 3\n",
    "\n",
    "#Nombre d'éoliennes onshore et offshore\n",
    "n_t = 487\n",
    "n_m = 155\n",
    "n = n_t + n_m"
   ],
   "metadata": {
    "collapsed": false,
    "ExecuteTime": {
     "end_time": "2024-05-15T07:31:36.691299Z",
     "start_time": "2024-05-15T07:31:36.681962Z"
    }
   },
   "id": "dd16a4bf861852e6",
   "outputs": [],
   "execution_count": 24
  },
  {
   "cell_type": "markdown",
   "source": [
    "### Extraction des données partagées dans les modèles"
   ],
   "metadata": {
    "collapsed": false
   },
   "id": "d0b78119737125f7"
  },
  {
   "cell_type": "code",
   "source": [
    "data = FileData()\n",
    "\n",
    "# Matrice de la consommation agrégée\n",
    "D = np.sum(data.getConsoData(), axis=0)\n",
    "# Rendement des éoliennes onshore et offshore\n",
    "R = data.getRend()\n",
    "# Capacités électriques éolien\n",
    "c = data.getCapacities()"
   ],
   "metadata": {
    "collapsed": false,
    "ExecuteTime": {
     "end_time": "2024-05-15T07:31:40.817755Z",
     "start_time": "2024-05-15T07:31:36.696663Z"
    }
   },
   "id": "acfcd0a6ccd619e4",
   "outputs": [],
   "execution_count": 25
  },
  {
   "cell_type": "markdown",
   "source": [
    "### Fonctions communes\n",
    "Fonctions communes à tous les modèles"
   ],
   "metadata": {
    "collapsed": false
   },
   "id": "37da39102f468e12"
  },
  {
   "cell_type": "code",
   "source": [
    "def periodisation(A, T):\n",
    "    \"\"\"\n",
    "    Additionne toutes les valeurs de A dans une même période.\n",
    "    input A : Matrice à périodiser\n",
    "    input T : Longueur de la période\n",
    "    output : Matrice A périodisée\n",
    "    \"\"\"\n",
    "    # p : nombre de période\n",
    "    # r : reste du nombre de période\n",
    "    p = A.shape[1] // T\n",
    "    r = A.shape[1] % T\n",
    "    # On coupe la matrice car sinon il n'y a pas assez de données de remplir la dernière période\n",
    "    A = A[:,:-r] if r!=0 else A\n",
    "    # C : matrice pour additionner les productions d'une période\n",
    "    C = np.zeros((A.shape[1], p))\n",
    "    for i in range(p):\n",
    "        C[i * T:(i + 1) * T, i] = 1\n",
    "    # P : matrice périodisée\n",
    "    P = np.dot(A, C)\n",
    "    return P\n",
    "\n",
    "def E_eolienne(R, c, T):\n",
    "    A = np.zeros(R.shape)\n",
    "    for i in range(len(c)):\n",
    "        A[i] = c[i] * R[i]\n",
    "        \n",
    "    A = periodisation(A, T)\n",
    "    return A"
   ],
   "metadata": {
    "collapsed": false,
    "ExecuteTime": {
     "end_time": "2024-05-15T07:31:40.826149Z",
     "start_time": "2024-05-15T07:31:40.819766Z"
    }
   },
   "id": "a4f49462ad749662",
   "outputs": [],
   "execution_count": 26
  },
  {
   "cell_type": "markdown",
   "source": [
    "### Produits des fonctions communes\n",
    "Variables communes nécessitant un calcul"
   ],
   "metadata": {
    "collapsed": false
   },
   "id": "1a9d698594507b4d"
  },
  {
   "cell_type": "code",
   "source": [
    "# Périodisation de D\n",
    "D = periodisation(np.array([D]), T)[0]\n",
    "# E : matrice de la production éolienne par site par période\n",
    "E = E_eolienne(R, c, T)\n",
    "# e : vecteur de production par période\n",
    "e = np.sum(E,axis=0)\n",
    "# s : scalaire, stockage total hydroélectrique\n",
    "s = np.sum(stockage)\n",
    "# pPompage : scalaire, puissance de pompage totale\n",
    "pPompage = np.sum(pompage)\n",
    "# pTurbinage : scalaire, puissance de turbinage totale\n",
    "pTurbinage = np.sum(turbinage)\n",
    "# wApport : Débit naturel de remplissage du stockage\n",
    "wApport = np.sum(data.getHydroData())"
   ],
   "metadata": {
    "collapsed": false,
    "ExecuteTime": {
     "end_time": "2024-05-15T07:31:41.420705Z",
     "start_time": "2024-05-15T07:31:40.827809Z"
    }
   },
   "id": "566a7d20beae9778",
   "outputs": [],
   "execution_count": 27
  },
  {
   "cell_type": "markdown",
   "source": [
    "## Modèle 4\n",
    "On considère d’abord un modèle européen agrégé avec installation d’éoliennes et utilisation des capacités hydroélectriques, mais pas de centrales au gaz. Ce modèle agrégé ne possède donc qu’une seule entité pour la production, le stockage et la consommation d’électricité (additionnez les capacités hydroélectriques et les demandes de tous les pays qui la composent).\n",
    "On chercher à calculer la valeur minimale du prix moyen de l’électricité consommée."
   ],
   "metadata": {
    "collapsed": false
   },
   "id": "f2efa59880f83f56"
  },
  {
   "cell_type": "markdown",
   "source": [
    "# <span style=\"color:red\">Simplification pour voir comment ça fonctionne : On place seulement des éoliennes</span>"
   ],
   "metadata": {
    "collapsed": false
   },
   "id": "ddff3dad22f2d1ef"
  },
  {
   "cell_type": "code",
   "source": [
    "# nombre de variable d'optimisation : nombre d'éolienne = 642\n",
    "x = cp.Variable(n)\n",
    "# Vecteur des prix d'installation d'éolienne onshore et offshore\n",
    "cost = np.concatenate((cout_instal_onshore * np.ones(n_t), cout_instal_offshore * np.ones(n_m)))\n",
    "# Contraintes\n",
    "contraints = [x>=0, x<=1, E.T@x>=D]\n",
    "\n",
    "# Il manque la production hydro pour satisfaire la demande donc je l'ai remplacé par la consommation d'une grosse ampoule qui éclaire h24 pendant 1 an\n",
    "D = np.ones(2920)\n",
    "\n",
    "prob = cp.Problem(cp.Minimize(cost @ x), contraints)\n",
    "prob.solve()\n",
    "print(\"Le prix optimal est : \",prob.value)\n",
    "print(x.value)"
   ],
   "metadata": {
    "collapsed": false,
    "ExecuteTime": {
     "end_time": "2024-05-15T07:31:51.723320Z",
     "start_time": "2024-05-15T07:31:41.423696Z"
    }
   },
   "id": "d1d47cb59277611a",
   "outputs": [
    {
     "name": "stdout",
     "output_type": "stream",
     "text": [
      "Le prix optimal est :  inf\n",
      "None\n"
     ]
    }
   ],
   "execution_count": 28
  },
  {
   "cell_type": "markdown",
   "source": [
    "## Modèle 5\n",
    "Considérons le modèle 4 avec la contrainte supplémentaire suivante : sur chaque site  éolien potentiel, il faut choisir entre installer 100%, 50% ou 0% de la capacité maximale installable."
   ],
   "metadata": {
    "collapsed": false
   },
   "id": "ef02a973a0664c9d"
  },
  {
   "cell_type": "code",
   "source": [
    "x = cp.Variable(n, integer=True)\n",
    "contraints = [x >= 0, x<= 2, E.T@x>=D]\n",
    "y = x / 2\n",
    "\n",
    "objective = cp.Minimize(cost @ y)\n",
    "\n",
    "prob = cp.Problem(objective, contraints)\n",
    "prob.solve()\n"
   ],
   "metadata": {
    "collapsed": false,
    "ExecuteTime": {
     "end_time": "2024-05-15T07:32:29.022013Z",
     "start_time": "2024-05-15T07:31:51.724227Z"
    }
   },
   "id": "88fa1342640a960b",
   "outputs": [
    {
     "data": {
      "text/plain": [
       "168902.99999999412"
      ]
     },
     "execution_count": 29,
     "metadata": {},
     "output_type": "execute_result"
    }
   ],
   "execution_count": 29
  },
  {
   "cell_type": "markdown",
   "source": [
    "## Modèle 6\n",
    "Revenons au modèle initial de la question 4 et incorporons la possibilité d’installer et d’utiliser des centrales au gaz."
   ],
   "metadata": {
    "collapsed": false
   },
   "id": "d449a9e8503c6d8"
  },
  {
   "cell_type": "code",
   "source": [
    "# TODO"
   ],
   "metadata": {
    "collapsed": false,
    "ExecuteTime": {
     "end_time": "2024-05-15T07:32:29.027085Z",
     "start_time": "2024-05-15T07:32:29.023656Z"
    }
   },
   "id": "6bec37ed6a82ecd",
   "outputs": [],
   "execution_count": 30
  }
 ],
 "metadata": {
  "kernelspec": {
   "display_name": "Python 3",
   "language": "python",
   "name": "python3"
  },
  "language_info": {
   "codemirror_mode": {
    "name": "ipython",
    "version": 2
   },
   "file_extension": ".py",
   "mimetype": "text/x-python",
   "name": "python",
   "nbconvert_exporter": "python",
   "pygments_lexer": "ipython2",
   "version": "2.7.6"
  }
 },
 "nbformat": 4,
 "nbformat_minor": 5
}
