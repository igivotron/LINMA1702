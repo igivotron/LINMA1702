{
 "cells": [
  {
   "cell_type": "markdown",
   "source": [
    "# Analyse d’un modèle avec demandes, stockage hydroélectrique et gaz"
   ],
   "metadata": {
    "collapsed": false
   },
   "id": "da1a1a4c448e66b1"
  },
  {
   "cell_type": "markdown",
   "source": [
    "### Import des librairies utilisées pour résoudre les problèmes"
   ],
   "metadata": {
    "collapsed": false
   },
   "id": "cff2b2724eb2707c"
  },
  {
   "cell_type": "code",
   "execution_count": 85,
   "id": "initial_id",
   "metadata": {
    "collapsed": true,
    "ExecuteTime": {
     "end_time": "2024-05-12T18:11:22.702225Z",
     "start_time": "2024-05-12T18:11:22.698202Z"
    }
   },
   "outputs": [],
   "source": [
    "import numpy as np\n",
    "from fileData import FileData\n",
    "import matplotlib.pyplot as plt\n",
    "import cvxpy"
   ]
  },
  {
   "cell_type": "markdown",
   "source": [
    "### Variables communes"
   ],
   "metadata": {
    "collapsed": false
   },
   "id": "4347be43cae40b02"
  },
  {
   "cell_type": "code",
   "outputs": [],
   "source": [
    "# Couts d'installation amortis des éoliennes\n",
    "cout_instal_onshore  = 168903 # Coût *amorti sur un an* pour l'installation d'un MW éolien on-shore (euros/MW/an)\n",
    "cout_instal_offshore = 300336 # Coût *amorti sur un an* pour l'installation d'un MW éolien on-shore (euros/MW/an)\n",
    "\n",
    "# Couts d'installation amortis et coûts de fonctionnement des centrales au gaz\n",
    "cout_instal_gaz = 94956 # Coût *amorti sur un an* pour l'installation d'un MW de centrale au gaz (euros/MW/an)\n",
    "cout_fonct_gaz  = 65    # Coût de fonctionnement pour la production d'un MWh par centrale au gaz (euros/MWh)\n",
    "\n",
    "# Stockage disponible par pays (en MWh)\n",
    "stockage = [0.3*1e6 , 3.2*1e6 , 0.01*1e6 , 0 , 18.4*1e6 , 9.8*1e6 , 0.24*1e6 , 7.9*1e6 , 0.005*1e6 , 84.147*1e6 , 0 , 2.6*1e6 , 1.2*1e6 , 33.756*1e6 , 8.4*1e6]\n",
    "\n",
    "# Puissances maximales de turbinage et de pompage disponibles par pays (en MW)\n",
    "turbinage = [8587 , 12009 , 1417 , 9 , 18372 , 25132 , 527 , 21117 , 1140 , 28941 , 37 , 5052 , 4269 , 16637 , 15101]\n",
    "pompage   = [5223 , 3580 , 1307 , 0 , 5347 , 4303 , 292 , 7544 , 1100 , 1396 , 0 , 1029 , 2744 , 45 , 1636 ]\n",
    "\n",
    "# Rendement pour le turbinage (sans unité)\n",
    "heta = 0.85\n",
    "\n",
    "# Longueur de la période utilisée\n",
    "T = 3"
   ],
   "metadata": {
    "collapsed": false,
    "ExecuteTime": {
     "end_time": "2024-05-12T18:11:22.731761Z",
     "start_time": "2024-05-12T18:11:22.726218Z"
    }
   },
   "id": "dd16a4bf861852e6",
   "execution_count": 86
  },
  {
   "cell_type": "markdown",
   "source": [
    "### Extraction des données partagées dans les modèles"
   ],
   "metadata": {
    "collapsed": false
   },
   "id": "d0b78119737125f7"
  },
  {
   "cell_type": "code",
   "outputs": [],
   "source": [
    "data = FileData()\n",
    "\n",
    "# Matrice de la consommation agrégée\n",
    "D = np.sum(data.getConsoData(), axis=0)\n",
    "# Rendement des éoliennes onshore et offshore\n",
    "R = data.getRend()\n",
    "# Capacités électriques éolien\n",
    "c = data.getCapacities()\n",
    "\n"
   ],
   "metadata": {
    "collapsed": false,
    "ExecuteTime": {
     "end_time": "2024-05-12T18:11:27.460811Z",
     "start_time": "2024-05-12T18:11:22.732757Z"
    }
   },
   "id": "acfcd0a6ccd619e4",
   "execution_count": 87
  },
  {
   "cell_type": "markdown",
   "source": [
    "### Fonctions communes\n",
    "Fonctions communes à tous les modèles"
   ],
   "metadata": {
    "collapsed": false
   },
   "id": "37da39102f468e12"
  },
  {
   "cell_type": "code",
   "outputs": [],
   "source": [
    "def periodisation(A, T):\n",
    "    \"\"\"\n",
    "    Additionne toutes les valeurs de A dans une même période.\n",
    "    input A : Matrice à périodiser\n",
    "    input T : Longueur de la période\n",
    "    output : Matrice A périodisée\n",
    "    \"\"\"\n",
    "    # p : nombre de période\n",
    "    # r : reste du nombre de période\n",
    "    p = A.shape[1] // T\n",
    "    r = A.shape[1] % T\n",
    "    # On coupe la matrice car sinon il n'y a pas assez de données de remplir la dernière période\n",
    "    A = A[:,:-r] if r!=0 else A\n",
    "    # C : matrice pour additionner les productions d'une période\n",
    "    C = np.zeros((A.shape[1], p))\n",
    "    for i in range(p):\n",
    "        C[i * T:(i + 1) * T, i] = 1\n",
    "    # P : matrice périodisée\n",
    "    P = np.dot(A, C)\n",
    "    return P\n",
    "\n",
    "def E_eolienne(R, c, T):\n",
    "    A = np.zeros(R.shape)\n",
    "    for i in range(len(c)):\n",
    "        A[i] = c[i] * R[i]\n",
    "        \n",
    "    A = periodisation(A, T)\n",
    "    return A"
   ],
   "metadata": {
    "collapsed": false,
    "ExecuteTime": {
     "end_time": "2024-05-12T18:11:27.468938Z",
     "start_time": "2024-05-12T18:11:27.461813Z"
    }
   },
   "id": "a4f49462ad749662",
   "execution_count": 88
  },
  {
   "cell_type": "markdown",
   "source": [
    "### Produits des fonctions communes\n",
    "Variables communes nécessitant un calcul"
   ],
   "metadata": {
    "collapsed": false
   },
   "id": "1a9d698594507b4d"
  },
  {
   "cell_type": "code",
   "outputs": [
    {
     "name": "stdout",
     "output_type": "stream",
     "text": [
      "411320506.21439993\n"
     ]
    }
   ],
   "source": [
    "# Périodisation de D\n",
    "D = periodisation(np.array([D]), T)\n",
    "# E : matrice de la production éolienne par site par période\n",
    "E = E_eolienne(R, c, T)\n",
    "# e : vecteur de production par période\n",
    "e = np.sum(E,axis=0)\n",
    "# s : scalaire, stockage total hydroélectrique\n",
    "s = np.sum(stockage)\n",
    "# pPompage : scalaire, puissance de pompage totale\n",
    "pPompage = np.sum(pompage)\n",
    "# pTurbinage : scalaire, puissance de turbinage totale\n",
    "pTurbinage = np.sum(turbinage)\n",
    "# wApport : Débit naturel de remplissage du stockage\n",
    "wApport = np.sum(data.getHydroData())"
   ],
   "metadata": {
    "collapsed": false,
    "ExecuteTime": {
     "end_time": "2024-05-12T18:11:27.748111Z",
     "start_time": "2024-05-12T18:11:27.470930Z"
    }
   },
   "id": "566a7d20beae9778",
   "execution_count": 89
  },
  {
   "cell_type": "markdown",
   "source": [
    "## Modèle 4\n",
    "On considère d’abord un modèle européen agrégé avec installation d’éoliennes et utilisation des capacités hydroélectriques, mais pas de centrales au gaz. Ce modèle agrégé ne possède donc qu’une seule entité pour la production, le stockage et la consommation d’électricité (additionnez les capacités hydroélectriques et les demandes de tous les pays qui la composent).\n",
    "On chercher à calculer la valeur minimale du prix moyen de l’électricité consommée."
   ],
   "metadata": {
    "collapsed": false
   },
   "id": "f2efa59880f83f56"
  },
  {
   "cell_type": "markdown",
   "source": [
    "## Modèle 5\n",
    "Considérons le modèle 4 avec la contrainte supplémentaire suivante : sur chaque site  éolien potentiel, il faut choisir entre installer 100%, 50% ou 0% de la capacité maximale installable."
   ],
   "metadata": {
    "collapsed": false
   },
   "id": "ef02a973a0664c9d"
  },
  {
   "cell_type": "code",
   "outputs": [],
   "source": [
    "# TODO"
   ],
   "metadata": {
    "collapsed": false,
    "ExecuteTime": {
     "end_time": "2024-05-12T18:11:27.752627Z",
     "start_time": "2024-05-12T18:11:27.749104Z"
    }
   },
   "id": "88fa1342640a960b",
   "execution_count": 90
  },
  {
   "cell_type": "markdown",
   "source": [
    "## Modèle 6\n",
    "Revenons au modèle initial de la question 4 et incorporons la possibilité d’installer et d’utiliser des centrales au gaz."
   ],
   "metadata": {
    "collapsed": false
   },
   "id": "d449a9e8503c6d8"
  },
  {
   "cell_type": "markdown",
   "source": [],
   "metadata": {
    "collapsed": false
   },
   "id": "5f94ffc7d962f11d"
  },
  {
   "cell_type": "code",
   "outputs": [],
   "source": [
    "# TODO"
   ],
   "metadata": {
    "collapsed": false,
    "ExecuteTime": {
     "end_time": "2024-05-12T18:11:27.757004Z",
     "start_time": "2024-05-12T18:11:27.754140Z"
    }
   },
   "id": "6bec37ed6a82ecd",
   "execution_count": 91
  }
 ],
 "metadata": {
  "kernelspec": {
   "display_name": "Python 3",
   "language": "python",
   "name": "python3"
  },
  "language_info": {
   "codemirror_mode": {
    "name": "ipython",
    "version": 2
   },
   "file_extension": ".py",
   "mimetype": "text/x-python",
   "name": "python",
   "nbconvert_exporter": "python",
   "pygments_lexer": "ipython2",
   "version": "2.7.6"
  }
 },
 "nbformat": 4,
 "nbformat_minor": 5
}
