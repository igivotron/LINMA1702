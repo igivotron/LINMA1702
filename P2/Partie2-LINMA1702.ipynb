{
 "cells": [
  {
   "cell_type": "markdown",
   "source": [
    "# Analyse d’un modèle avec demandes, stockage hydroélectrique et gaz"
   ],
   "metadata": {
    "collapsed": false
   },
   "id": "da1a1a4c448e66b1"
  },
  {
   "cell_type": "markdown",
   "source": [
    "### Import des librairies utilisées pour résoudre les problèmes"
   ],
   "metadata": {
    "collapsed": false
   },
   "id": "cff2b2724eb2707c"
  },
  {
   "cell_type": "code",
   "execution_count": 13,
   "id": "initial_id",
   "metadata": {
    "collapsed": true,
    "ExecuteTime": {
     "end_time": "2024-05-10T14:47:47.363285Z",
     "start_time": "2024-05-10T14:47:47.362824Z"
    }
   },
   "outputs": [],
   "source": [
    "import numpy as np\n",
    "from fileData import FileData\n",
    "import matplotlib.pyplot as plt\n",
    "import cvxpy"
   ]
  },
  {
   "cell_type": "markdown",
   "source": [
    "### Variables globales"
   ],
   "metadata": {
    "collapsed": false
   },
   "id": "4347be43cae40b02"
  },
  {
   "cell_type": "code",
   "outputs": [],
   "source": [
    "# Couts d'installation amortis des éoliennes\n",
    "cout_instal_onshore  = 168903 # Coût *amorti sur un an* pour l'installation d'un MW éolien on-shore (euros/MW/an)\n",
    "cout_instal_offshore = 300336 # Coût *amorti sur un an* pour l'installation d'un MW éolien on-shore (euros/MW/an)\n",
    "\n",
    "# Couts d'installation amortis et coûts de fonctionnement des centrales au gaz\n",
    "cout_instal_gaz = 94956 # Coût *amorti sur un an* pour l'installation d'un MW de centrale au gaz (euros/MW/an)\n",
    "cout_fonct_gaz  = 65    # Coût de fonctionnement pour la production d'un MWh par centrale au gaz (euros/MWh)\n",
    "\n",
    "# Stockage disponible par pays (en MWh)\n",
    "stockage = [0.3*1e6 , 3.2*1e6 , 0.01*1e6 , 0 , 18.4*1e6 , 9.8*1e6 , 0.24*1e6 , 7.9*1e6 , 0.005*1e6 , 84.147*1e6 , 0 , 2.6*1e6 , 1.2*1e6 , 33.756*1e6 , 8.4*1e6]\n",
    "\n",
    "# Puissances maximales de turbinage et de pompage disponibles par pays (en MW)\n",
    "turbinage = [8587 , 12009 , 1417 , 9 , 18372 , 25132 , 527 , 21117 , 1140 , 28941 , 37 , 5052 , 4269 , 16637 , 15101]\n",
    "pompage   = [5223 , 3580 , 1307 , 0 , 5347 , 4303 , 292 , 7544 , 1100 , 1396 , 0 , 1029 , 2744 , 45 , 1636 ]\n",
    "\n",
    "# Rendement pour le turbinage (sans unité)\n",
    "heta = 0.85 "
   ],
   "metadata": {
    "collapsed": false,
    "ExecuteTime": {
     "end_time": "2024-05-10T14:47:47.380040Z",
     "start_time": "2024-05-10T14:47:47.375558Z"
    }
   },
   "id": "dd16a4bf861852e6",
   "execution_count": 14
  },
  {
   "cell_type": "markdown",
   "source": [
    "## Modèle 4\n",
    "On considère d’abord un modèle européen agrégé avec installation d’éoliennes et utilisation des capacités hydroélectriques, mais pas de centrales au gaz. Ce modèle agrégé ne possède donc qu’une seule entité pour la production, le stockage et la consommation d’électricité (additionnez les capacités hydroélectriques et les demandes de tous les pays qui la composent).\n",
    "On chercher à calculer la valeur minimale du prix moyen de l’électricité consommée."
   ],
   "metadata": {
    "collapsed": false
   },
   "id": "f2efa59880f83f56"
  },
  {
   "cell_type": "markdown",
   "source": [],
   "metadata": {
    "collapsed": false
   },
   "id": "6c91ec7abb406507"
  },
  {
   "cell_type": "code",
   "outputs": [],
   "source": [
    "# TODO"
   ],
   "metadata": {
    "collapsed": false,
    "ExecuteTime": {
     "end_time": "2024-05-10T14:47:47.384614Z",
     "start_time": "2024-05-10T14:47:47.378428Z"
    }
   },
   "id": "9d8cb49a7b44341d",
   "execution_count": 15
  },
  {
   "cell_type": "markdown",
   "source": [
    "## Modèle 5\n",
    "Considérons le modèle 4 avec la contrainte supplémentaire suivante : sur chaque site  éolien potentiel, il faut choisir entre installer 100%, 50% ou 0% de la capacité maximale installable."
   ],
   "metadata": {
    "collapsed": false
   },
   "id": "ef02a973a0664c9d"
  },
  {
   "cell_type": "code",
   "outputs": [],
   "source": [
    "# TODO"
   ],
   "metadata": {
    "collapsed": false,
    "ExecuteTime": {
     "end_time": "2024-05-10T14:47:47.388599Z",
     "start_time": "2024-05-10T14:47:47.382651Z"
    }
   },
   "id": "88fa1342640a960b",
   "execution_count": 16
  },
  {
   "cell_type": "markdown",
   "source": [
    "## Modèle 6\n",
    "Revenons au modèle initial de la question 4 et incorporons la possibilité d’installer et d’utiliser des centrales au gaz."
   ],
   "metadata": {
    "collapsed": false
   },
   "id": "d449a9e8503c6d8"
  },
  {
   "cell_type": "markdown",
   "source": [],
   "metadata": {
    "collapsed": false
   },
   "id": "5f94ffc7d962f11d"
  },
  {
   "cell_type": "code",
   "outputs": [],
   "source": [
    "# TODO"
   ],
   "metadata": {
    "collapsed": false,
    "ExecuteTime": {
     "end_time": "2024-05-10T14:47:47.393532Z",
     "start_time": "2024-05-10T14:47:47.388106Z"
    }
   },
   "id": "6bec37ed6a82ecd",
   "execution_count": 17
  }
 ],
 "metadata": {
  "kernelspec": {
   "display_name": "Python 3",
   "language": "python",
   "name": "python3"
  },
  "language_info": {
   "codemirror_mode": {
    "name": "ipython",
    "version": 2
   },
   "file_extension": ".py",
   "mimetype": "text/x-python",
   "name": "python",
   "nbconvert_exporter": "python",
   "pygments_lexer": "ipython2",
   "version": "2.7.6"
  }
 },
 "nbformat": 4,
 "nbformat_minor": 5
}
