{
 "cells": [
  {
   "cell_type": "markdown",
   "id": "da1a1a4c448e66b1",
   "metadata": {
    "collapsed": false
   },
   "source": [
    "# Analyse d’un modèle avec demandes, stockage hydroélectrique et gaz"
   ]
  },
  {
   "cell_type": "markdown",
   "id": "cff2b2724eb2707c",
   "metadata": {
    "collapsed": false
   },
   "source": [
    "### Import des librairies utilisées pour résoudre les problèmes"
   ]
  },
  {
   "cell_type": "code",
   "execution_count": 1,
   "id": "initial_id",
   "metadata": {
    "ExecuteTime": {
     "end_time": "2024-05-12T20:44:06.250864Z",
     "start_time": "2024-05-12T20:44:06.247866Z"
    },
    "collapsed": true
   },
   "outputs": [],
   "source": [
    "import numpy as np\n",
    "from fileData import FileData\n",
    "import matplotlib.pyplot as plt\n",
    "\n",
    "import cvxpy as cp\n",
    "from scipy.optimize import linprog"
   ]
  },
  {
   "cell_type": "markdown",
   "id": "4347be43cae40b02",
   "metadata": {
    "collapsed": false
   },
   "source": [
    "### Variables communes"
   ]
  },
  {
   "cell_type": "code",
   "execution_count": 2,
   "id": "dd16a4bf861852e6",
   "metadata": {
    "ExecuteTime": {
     "end_time": "2024-05-12T20:44:06.271229Z",
     "start_time": "2024-05-12T20:44:06.265864Z"
    },
    "collapsed": false
   },
   "outputs": [],
   "source": [
    "# Couts d'installation amortis des éoliennes\n",
    "cout_instal_onshore  = 168903 # Coût *amorti sur un an* pour l'installation d'un MW éolien on-shore (euros/MW/an)\n",
    "cout_instal_offshore = 300336 # Coût *amorti sur un an* pour l'installation d'un MW éolien on-shore (euros/MW/an)\n",
    "\n",
    "# Couts d'installation amortis et coûts de fonctionnement des centrales au gaz\n",
    "cout_instal_gaz = 94956 # Coût *amorti sur un an* pour l'installation d'un MW de centrale au gaz (euros/MW/an)\n",
    "cout_fonct_gaz  = 65    # Coût de fonctionnement pour la production d'un MWh par centrale au gaz (euros/MWh)\n",
    "\n",
    "# Stockage disponible par pays (en MWh)\n",
    "stockage = [0.3*1e6 , 3.2*1e6 , 0.01*1e6 , 0 , 18.4*1e6 , 9.8*1e6 , 0.24*1e6 , 7.9*1e6 , 0.005*1e6 , 84.147*1e6 , 0 , 2.6*1e6 , 1.2*1e6 , 33.756*1e6 , 8.4*1e6]\n",
    "\n",
    "# Puissances maximales de turbinage et de pompage disponibles par pays (en MW)\n",
    "turbinage = [8587 , 12009 , 1417 , 9 , 18372 , 25132 , 527 , 21117 , 1140 , 28941 , 37 , 5052 , 4269 , 16637 , 15101]\n",
    "pompage   = [5223 , 3580 , 1307 , 0 , 5347 , 4303 , 292 , 7544 , 1100 , 1396 , 0 , 1029 , 2744 , 45 , 1636 ]\n",
    "\n",
    "# Rendement pour le turbinage (sans unité)\n",
    "heta = 0.85\n",
    "\n",
    "#Nombre d'éoliennes onshore et offshore\n",
    "n_t = 487\n",
    "n_m = 155\n",
    "n = n_t + n_m"
   ]
  },
  {
   "cell_type": "markdown",
   "id": "d0b78119737125f7",
   "metadata": {
    "collapsed": false
   },
   "source": [
    "### Extraction des données partagées dans les modèles"
   ]
  },
  {
   "cell_type": "code",
   "execution_count": 3,
   "id": "acfcd0a6ccd619e4",
   "metadata": {
    "ExecuteTime": {
     "end_time": "2024-05-12T20:44:10.884093Z",
     "start_time": "2024-05-12T20:44:06.278206Z"
    },
    "collapsed": false
   },
   "outputs": [],
   "source": [
    "data = FileData()\n",
    "\n",
    "# Matrice de la consommation agrégée\n",
    "Demandes = np.sum(data.getConsoData(), axis=0)\n",
    "# Rendement des éoliennes onshore et offshore\n",
    "Rendements = data.getRend()\n",
    "# Capacités électriques éolien\n",
    "c_t = data.getOnshoreCapacites()\n",
    "c_m = data.getOffshoreCapacites()\n",
    "c = np.concatenate((c_t,c_m))\n",
    "# Apports naturels hydroélectriques agrégés\n",
    "Water = np.sum(data.getHydroData(), axis=0)"
   ]
  },
  {
   "cell_type": "markdown",
   "id": "4eec1675",
   "metadata": {},
   "source": [
    "### Variables temporelles"
   ]
  },
  {
   "cell_type": "code",
   "execution_count": 4,
   "id": "0dee1a3e",
   "metadata": {},
   "outputs": [],
   "source": [
    "# Horizon temporel de résolution\n",
    "\"\"\"\n",
    "1 jour            : 24\n",
    "1 semaine         : 168\n",
    "1 mois (30 jours) : 720\n",
    "3 mois (1/4 an)   : 2190\n",
    "6 mois (1/2 an)   : 4380 \n",
    "1 an   (365 jours): 8760\n",
    "\"\"\"\n",
    "h = 8190\n",
    "\n",
    "# Longueur de la période utilisée\n",
    "T = 3\n",
    "\n",
    "# Nombre de périodes\n",
    "t = h//T"
   ]
  },
  {
   "cell_type": "code",
   "execution_count": 5,
   "id": "e08d8ef9",
   "metadata": {},
   "outputs": [],
   "source": [
    "# Réduction à l'horizon temporel considéré\n",
    "D = Demandes[:h]\n",
    "R = Rendements[:,:h]\n",
    "W = Water[:h]"
   ]
  },
  {
   "cell_type": "markdown",
   "id": "37da39102f468e12",
   "metadata": {
    "collapsed": false
   },
   "source": [
    "### Fonctions communes\n",
    "Fonctions communes à tous les modèles"
   ]
  },
  {
   "cell_type": "code",
   "execution_count": 7,
   "id": "a4f49462ad749662",
   "metadata": {
    "ExecuteTime": {
     "end_time": "2024-05-12T20:44:10.890618Z",
     "start_time": "2024-05-12T20:44:10.885090Z"
    },
    "collapsed": false
   },
   "outputs": [],
   "source": [
    "def periodisation(A, T):\n",
    "    \"\"\"\n",
    "    Additionne toutes les valeurs de A dans une même période.\n",
    "    input A : Matrice à périodiser\n",
    "    !! Le nombre de colonnes (axis = 1) représente le temps (l'horizon temporel) !!\n",
    "    input T : Longueur de la période\n",
    "    output : Matrice A périodisée\n",
    "    \"\"\"\n",
    "    # p : nombre de période\n",
    "    # r : reste du nombre de période\n",
    "    p = A.shape[1] // T\n",
    "    r = A.shape[1] % T\n",
    "    # On coupe la matrice car sinon il n'y a pas assez de données de remplir la dernière période\n",
    "    A = A[:,:-r] if r!=0 else A\n",
    "    # C : matrice pour additionner les productions d'une période\n",
    "    C = np.zeros((A.shape[1], p))\n",
    "    for i in range(p):\n",
    "        C[i * T:(i + 1) * T, i] = 1\n",
    "    # P : matrice périodisée\n",
    "    P = np.dot(A, C)\n",
    "    return P\n",
    "\n",
    "def E_eolienne(R, c, T):\n",
    "    A = np.zeros(R.shape)\n",
    "    for i in range(len(c)):\n",
    "        A[i] = c[i] * R[i]\n",
    "        \n",
    "    A = periodisation(A, T)\n",
    "    return A"
   ]
  },
  {
   "cell_type": "markdown",
   "id": "1a9d698594507b4d",
   "metadata": {
    "collapsed": false
   },
   "source": [
    "### Produits des fonctions communes\n",
    "Variables communes nécessitant un calcul"
   ]
  },
  {
   "cell_type": "code",
   "execution_count": 8,
   "id": "566a7d20beae9778",
   "metadata": {
    "ExecuteTime": {
     "end_time": "2024-05-12T20:44:11.149066Z",
     "start_time": "2024-05-12T20:44:10.891153Z"
    },
    "collapsed": false
   },
   "outputs": [
    {
     "data": {
      "image/png": "[encoded data removed]",
      "text/plain": [
       "<Figure size 640x480 with 1 Axes>"
      ]
     },
     "metadata": {},
     "output_type": "display_data"
    }
   ],
   "source": [
    "# Périodisation de D\n",
    "d = periodisation(np.array([D]), T)\n",
    "d = np.transpose(d)\n",
    "# E : matrice de la production éolienne par site par période\n",
    "E = E_eolienne(R, c, T)\n",
    "# s : scalaire, stockage total hydroélectrique\n",
    "s = np.sum(stockage)\n",
    "# pPompage : scalaire, puissance de pompage totale\n",
    "pPompage = np.sum(pompage)\n",
    "# pTurbinage : scalaire, puissance de turbinage totale\n",
    "pTurbinage = np.sum(turbinage)\n",
    "# Périodisation de W\n",
    "wA = periodisation(np.array([W]), T)\n",
    "wA = np.transpose(wA)\n",
    "# Matrice L\n",
    "L = np.tril(np.ones((t,t)))\n",
    "\n",
    "plt.plot(np.arange(t), wA, 'b', label=\"Apports naturels\")\n",
    "plt.plot(np.arange(t), heta*T*pTurbinage*np.ones((t)), 'r', label=\"Max sortie\")\n",
    "plt.title(\"Apports naturels au stockage hydroélectrique\")\n",
    "plt.legend()\n",
    "plt.show()"
   ]
  },
  {
   "cell_type": "markdown",
   "id": "f2efa59880f83f56",
   "metadata": {
    "collapsed": false
   },
   "source": [
    "## Modèle 4\n",
    "On considère d’abord un modèle européen agrégé avec installation d’éoliennes et utilisation des capacités hydroélectriques, mais pas de centrales au gaz. Ce modèle agrégé ne possède donc qu’une seule entité pour la production, le stockage et la consommation d’électricité (additionnez les capacités hydroélectriques et les demandes de tous les pays qui la composent).\n",
    "On chercher à calculer la valeur minimale du prix moyen de l’électricité consommée."
   ]
  },
  {
   "cell_type": "markdown",
   "id": "6c3fadd6",
   "metadata": {},
   "source": [
    "### Resolution CVXPY"
   ]
  },
  {
   "cell_type": "code",
   "execution_count": null,
   "id": "7bfbb717",
   "metadata": {},
   "outputs": [],
   "source": [
    "# Variables : portions des sites installés, quantités pompées, quantités turbinées\n",
    "x = cp.Variable((n,1))\n",
    "wP = cp.Variable((t,1))\n",
    "wT = cp.Variable((t,1))\n",
    "\n",
    "# Vecteur des prix d'installation d'éolienne onshore et offshore\n",
    "cost = (h/8760)*np.concatenate((cout_instal_onshore * c_t, cout_instal_offshore * c_m))\n",
    "\n",
    "# Contraintes\n",
    "contraintes = [\n",
    "    x >= 0, x <= 1, \n",
    "    E.T@x - wP + wT >= d,\n",
    "    0 <= s/2 + L@(wA + wP - wT/heta), s/2 + L@(wA + wP - wT/heta) <= s,\n",
    "    np.ones((1,t))@(wA + wP - wT/heta) == 0,\n",
    "    0 <= wP, wP <= T*pPompage,\n",
    "    0 <= wT, wT <= heta*T*pTurbinage,\n",
    "    wP <= E.T@x\n",
    "    ]\n",
    "\n",
    "# Probleme\n",
    "prob = cp.Problem(cp.Minimize(cost @ x), contraintes)\n"
   ]
  },
  {
   "cell_type": "code",
   "execution_count": null,
   "id": "81c61687",
   "metadata": {},
   "outputs": [],
   "source": [
    "# Resolution\n",
    "prob.solve()\n",
    "print(prob.status)"
   ]
  },
  {
   "cell_type": "code",
   "execution_count": null,
   "id": "a68b282f",
   "metadata": {},
   "outputs": [],
   "source": [
    "# Get values\n",
    "prixtot = prob.value\n",
    "x = x.value\n",
    "wP = wP.value\n",
    "wT = wT.value"
   ]
  },
  {
   "cell_type": "markdown",
   "id": "8114f2fe",
   "metadata": {},
   "source": [
    "### Resolution SCIPY"
   ]
  },
  {
   "cell_type": "code",
   "execution_count": 9,
   "id": "f45ccc9a",
   "metadata": {},
   "outputs": [
    {
     "name": "stdout",
     "output_type": "stream",
     "text": [
      "Optimization terminated successfully. (HiGHS Status 7: Optimal)\n"
     ]
    }
   ],
   "source": [
    "# Variables : portions des sites installés, quantités pompées, quantités turbinées\n",
    "#x = Variable((n,1))\n",
    "#wP = Variable((t,1))\n",
    "#wT = Variable((t,1))\n",
    "#n + 2*t\n",
    "\n",
    "# Vecteur des prix d'installation d'éolienne onshore et offshore\n",
    "cost = (h/8760)*np.concatenate((cout_instal_onshore * c_t, cout_instal_offshore * c_m))\n",
    "cost_all = np.concatenate((cost, np.zeros((2*t,))))\n",
    "\n",
    "# Bounds\n",
    "# x >= 0, x <= 1\n",
    "# 0 <= wP, wP <= T*pPompage\n",
    "# 0 <= wT, wT <= heta*T*pTurbinage\n",
    "\n",
    "bounds = []\n",
    "for i in range (n) :\n",
    "    bounds.append((0,1))\n",
    "for i in range (t) :\n",
    "    bounds.append((0, T*pPompage))\n",
    "for i in range(t) :\n",
    "    bounds.append((0, heta*T*pTurbinage))\n",
    "\n",
    "# Equality constraints\n",
    "# sum(wP - wT/heta) == -sum(wA)\n",
    "\n",
    "A_eq = np.concatenate((np.zeros((1,n)), np.ones((1,t)), (-1/heta)*np.ones((1,t))), axis=1)\n",
    "b_eq = -np.sum(wA)\n",
    "\n",
    "# Inequality contraints\n",
    "# -E.T@x + wP - wT <= -d\n",
    "# L@(-wP + wT/heta) <= s/2 + L@wA \n",
    "# L@(wP - wT/heta) <= s/2 - L@wA\n",
    "# -E.T@x + wP <= 0\n",
    "\n",
    "A_ub1 = np.concatenate((-E.T, np.identity(t), -np.identity(t)), axis=1)\n",
    "b_ub1 = -d\n",
    "\n",
    "A_ub2 = np.concatenate((np.zeros((t,n)), -L, L/heta), axis=1)\n",
    "b_ub2 = 0.5*s + L@wA\n",
    "\n",
    "# Manually increasing max stockage (factor = 1 means real value)\n",
    "factor = 1\n",
    "A_ub3 = np.concatenate((np.zeros((t,n)), L, -L/heta), axis=1)\n",
    "b_ub3 = factor*0.5*s - L@wA \n",
    "\n",
    "A_ub4 = np.concatenate((-E.T, np.identity(t), np.zeros((t,t))), axis=1)\n",
    "b_ub4 = np.zeros((t,1))\n",
    "\n",
    "A_ub = np.concatenate((A_ub1, A_ub2, A_ub3, A_ub4))\n",
    "b_ub = np.concatenate((b_ub1, b_ub2, b_ub3, b_ub4))\n",
    "\n",
    "res = linprog(cost_all, A_ub=A_ub, b_ub=b_ub, A_eq=A_eq, b_eq=b_eq, bounds=bounds)\n",
    "print(res.message)\n"
   ]
  },
  {
   "cell_type": "code",
   "execution_count": 10,
   "id": "3799935c",
   "metadata": {},
   "outputs": [],
   "source": [
    "# Get values\n",
    "\n",
    "prixtot = res.fun\n",
    "x = res.x[0:n]\n",
    "wP = res.x[n:n+t]\n",
    "wT = res.x[n+t:n+2*t]"
   ]
  },
  {
   "cell_type": "markdown",
   "id": "8e1fb4e7",
   "metadata": {},
   "source": [
    "### Results"
   ]
  },
  {
   "cell_type": "code",
   "execution_count": 11,
   "id": "937d5620",
   "metadata": {},
   "outputs": [
    {
     "name": "stdout",
     "output_type": "stream",
     "text": [
      "Energie produite, 1718720186.0673025 MWh\n",
      "Energie 'reçue' , 393278403.22609997 MWh\n",
      "Total           , 2111998589.2934024 MWh\n",
      "Energie utilisée, 1950922956.7 MWh\n",
      "Prix total, 91796632543.60155 euros\n",
      "Prix moyen, 53.40987630665259 euros/MWh\n"
     ]
    }
   ],
   "source": [
    "# Energie produite (pour laquelle de l'argent a été dépensé)\n",
    "Eprod = np.sum(E.T@x)\n",
    "\n",
    "# Apports naturels\n",
    "Enat = np.sum(wA)\n",
    "\n",
    "# Energie utilisée\n",
    "Eutile = np.sum(d)\n",
    "\n",
    "print(\"Energie produite, {} MWh\".format(Eprod))\n",
    "print(\"Energie 'reçue' , {} MWh\".format(Enat))\n",
    "print(\"Total           , {} MWh\".format(Eprod+Enat))\n",
    "print(\"Energie utilisée, {} MWh\".format(Eutile))\n",
    "\n",
    "# Prix total, prix moyen\n",
    "print(\"Prix total, {} euros\".format(prixtot))\n",
    "print(\"Prix moyen, {} euros/MWh\".format(prixtot/Eprod))"
   ]
  },
  {
   "cell_type": "code",
   "execution_count": 12,
   "id": "88a041d9",
   "metadata": {},
   "outputs": [
    {
     "data": {
      "image/png": "[encoded data removed]",
      "text/plain": [
       "<Figure size 640x480 with 1 Axes>"
      ]
     },
     "metadata": {},
     "output_type": "display_data"
    }
   ],
   "source": [
    "plt.figure()\n",
    "\n",
    "time = np.arange(0,t,1)\n",
    "\n",
    "min = -0.5*s*np.ones((t))\n",
    "max = 0.5*s*np.ones((t))\n",
    "\n",
    "apports = np.ravel(wA)\n",
    "entrees = np.ravel(wP)\n",
    "sorties = np.ravel(wT/heta)\n",
    "\n",
    "plt.plot(time, min, 'r', label=\"Limites de stockage\")\n",
    "plt.plot(time, max, 'r')\n",
    "plt.plot(time, L@apports, 'b', label=\"Apports naturels cumulés\")\n",
    "plt.plot(time, L@entrees, 'g', label=\"Entrées cumulées\")\n",
    "plt.plot(time, -L@sorties, 'y', label=\"Sorties cumulées\")\n",
    "plt.plot(time, L@(apports + entrees - sorties), 'black', label=\"Occupation du bassin\")\n",
    "\n",
    "plt.xlabel(\"Nombre de periodes [-]\")\n",
    "plt.ylabel(\"Energie stockée [MWh]\")\n",
    "plt.title(\"Occupation du bassin autour de son remplissage initial\")\n",
    "plt.legend()\n",
    "plt.show()"
   ]
  },
  {
   "cell_type": "markdown",
   "id": "ef02a973a0664c9d",
   "metadata": {
    "collapsed": false
   },
   "source": [
    "## Modèle 5\n",
    "Considérons le modèle 4 avec la contrainte supplémentaire suivante : sur chaque site  éolien potentiel, il faut choisir entre installer 100%, 50% ou 0% de la capacité maximale installable."
   ]
  },
  {
   "cell_type": "code",
   "execution_count": null,
   "id": "88fa1342640a960b",
   "metadata": {
    "ExecuteTime": {
     "end_time": "2024-05-12T20:44:28.697785Z",
     "start_time": "2024-05-12T20:44:28.695088Z"
    },
    "collapsed": false
   },
   "outputs": [],
   "source": [
    "# TODO"
   ]
  },
  {
   "cell_type": "markdown",
   "id": "d449a9e8503c6d8",
   "metadata": {
    "collapsed": false
   },
   "source": [
    "## Modèle 6\n",
    "Revenons au modèle initial de la question 4 et incorporons la possibilité d’installer et d’utiliser des centrales au gaz."
   ]
  },
  {
   "cell_type": "code",
   "execution_count": null,
   "id": "6bec37ed6a82ecd",
   "metadata": {
    "ExecuteTime": {
     "end_time": "2024-05-12T20:44:28.701782Z",
     "start_time": "2024-05-12T20:44:28.698783Z"
    },
    "collapsed": false
   },
   "outputs": [],
   "source": [
    "# TODO"
   ]
  }
 ],
 "metadata": {
  "kernelspec": {
   "display_name": "Python 3",
   "language": "python",
   "name": "python3"
  },
  "language_info": {
   "codemirror_mode": {
    "name": "ipython",
    "version": 3
   },
   "file_extension": ".py",
   "mimetype": "text/x-python",
   "name": "python",
   "nbconvert_exporter": "python",
   "pygments_lexer": "ipython3",
   "version": "3.9.13"
  }
 },
 "nbformat": 4,
 "nbformat_minor": 5
}
