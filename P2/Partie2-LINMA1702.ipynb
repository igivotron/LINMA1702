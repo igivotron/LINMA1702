{
 "cells": [
  {
   "cell_type": "markdown",
   "id": "da1a1a4c448e66b1",
   "metadata": {
    "collapsed": false
   },
   "source": [
    "# Analyse d’un modèle avec demandes, stockage hydroélectrique et gaz"
   ]
  },
  {
   "cell_type": "markdown",
   "id": "cff2b2724eb2707c",
   "metadata": {
    "collapsed": false
   },
   "source": [
    "### Import des librairies utilisées pour résoudre les problèmes"
   ]
  },
  {
   "cell_type": "code",
   "execution_count": null,
   "id": "initial_id",
   "metadata": {
    "collapsed": true
   },
   "outputs": [],
   "source": [
    "import numpy as np\n",
    "import matplotlib.pyplot as plt\n",
    "import time\n",
    "\n",
    "import cvxpy as cp\n",
    "import importlib\n",
    "\n",
    "import fileData\n",
    "importlib.reload(fileData)\n",
    "import results\n",
    "importlib.reload(results)\n",
    "import plotMap\n",
    "importlib.reload(plotMap)\n",
    "FileData = fileData.FileData"
   ]
  },
  {
   "cell_type": "markdown",
   "id": "4cc17ff5",
   "metadata": {},
   "source": [
    "### Initialisation des temps d'exécution et prix moyens"
   ]
  },
  {
   "cell_type": "code",
   "execution_count": null,
   "id": "d1736cea",
   "metadata": {},
   "outputs": [],
   "source": [
    "TIME1, TIME2, TIME3 = None, None, None\n",
    "PRIX1, PRIX2, PRIX3 = None, None, None"
   ]
  },
  {
   "cell_type": "markdown",
   "id": "4347be43cae40b02",
   "metadata": {
    "collapsed": false
   },
   "source": [
    "### Variables communes"
   ]
  },
  {
   "cell_type": "code",
   "execution_count": null,
   "id": "dd16a4bf861852e6",
   "metadata": {
    "collapsed": false
   },
   "outputs": [],
   "source": [
    "# Couts d'installation amortis des éoliennes\n",
    "cout_instal_onshore  = 168903 # Coût *amorti sur un an* pour l'installation d'un MW éolien on-shore (euros/MW/an)\n",
    "cout_instal_offshore = 300336 # Coût *amorti sur un an* pour l'installation d'un MW éolien on-shore (euros/MW/an)\n",
    "\n",
    "# Couts d'installation amortis et coûts de fonctionnement des centrales au gaz\n",
    "cout_instal_gaz = 94956 # Coût *amorti sur un an* pour l'installation d'un MW de centrale au gaz (euros/MW/an)\n",
    "cout_fonct_gaz  = 65    # Coût de fonctionnement pour la production d'un MWh par centrale au gaz (euros/MWh)\n",
    "\n",
    "# Stockage disponible par pays (en MWh)\n",
    "stockage = [0.3*1e6 , 3.2*1e6 , 0.01*1e6 , 0 , 18.4*1e6 , 9.8*1e6 , 0.24*1e6 , 7.9*1e6 , 0.005*1e6 , 84.147*1e6 , 0 , 2.6*1e6 , 1.2*1e6 , 33.756*1e6 , 8.4*1e6]\n",
    "\n",
    "# Puissances maximales de turbinage et de pompage disponibles par pays (en MW)\n",
    "turbinage = [8587 , 12009 , 1417 , 9 , 18372 , 25132 , 527 , 21117 , 1140 , 28941 , 37 , 5052 , 4269 , 16637 , 15101]\n",
    "pompage   = [5223 , 3580 , 1307 , 0 , 5347 , 4303 , 292 , 7544 , 1100 , 1396 , 0 , 1029 , 2744 , 45 , 1636 ]\n",
    "\n",
    "# Rendement pour le turbinage (sans unité)\n",
    "heta = 0.85\n",
    "\n",
    "#Nombre d'éoliennes onshore et offshore\n",
    "n_t = 487\n",
    "n_m = 155\n",
    "n = n_t + n_m"
   ]
  },
  {
   "cell_type": "markdown",
   "id": "d0b78119737125f7",
   "metadata": {
    "collapsed": false
   },
   "source": [
    "### Extraction des données partagées dans les modèles"
   ]
  },
  {
   "cell_type": "code",
   "execution_count": null,
   "id": "acfcd0a6ccd619e4",
   "metadata": {
    "ExecuteTime": {
     "start_time": "2024-05-16T19:58:11.493428Z"
    },
    "collapsed": false
   },
   "outputs": [],
   "source": [
    "data = FileData()\n",
    "\n",
    "# Matrice de la consommation agrégée\n",
    "Demandes = np.sum(data.getConsoData(), axis=0)\n",
    "# Rendement des éoliennes onshore et offshore\n",
    "Rendements = data.getRend()\n",
    "# Capacités électriques éolien\n",
    "c_t = data.getOnshoreCapacites()\n",
    "c_m = data.getOffshoreCapacites()\n",
    "c = np.concatenate((c_t,c_m))[:,None]\n",
    "# Apports naturels hydroélectriques agrégés\n",
    "Water = np.sum(data.getHydroData(), axis=0)"
   ]
  },
  {
   "cell_type": "markdown",
   "id": "4eec1675",
   "metadata": {},
   "source": [
    "### Variables temporelles"
   ]
  },
  {
   "cell_type": "code",
   "execution_count": null,
   "id": "0dee1a3e",
   "metadata": {},
   "outputs": [],
   "source": [
    "# Horizon temporel de résolution\n",
    "\"\"\"\n",
    "1 jour            : 24\n",
    "1 semaine         : 168\n",
    "1 mois (30 jours) : 720\n",
    "3 mois (1/4 an)   : 2190\n",
    "6 mois (1/2 an)   : 4380 \n",
    "1 an   (365 jours): 8760\n",
    "\"\"\"\n",
    "h = 8760\n",
    "\n",
    "# Longueur de la période utilisée\n",
    "T = 3\n",
    "\n",
    "# Nombre de périodes\n",
    "t = h//T"
   ]
  },
  {
   "cell_type": "code",
   "execution_count": null,
   "id": "e08d8ef9",
   "metadata": {},
   "outputs": [],
   "source": [
    "# Réduction à l'horizon temporel considéré\n",
    "D = Demandes[:h]\n",
    "R = Rendements[:,:h]\n",
    "W = Water[:h]"
   ]
  },
  {
   "cell_type": "markdown",
   "id": "37da39102f468e12",
   "metadata": {
    "collapsed": false
   },
   "source": [
    "### Fonctions communes\n",
    "Fonctions communes à tous les modèles"
   ]
  },
  {
   "cell_type": "code",
   "execution_count": null,
   "id": "a4f49462ad749662",
   "metadata": {
    "ExecuteTime": {
     "start_time": "2024-05-16T19:58:11.495429Z"
    },
    "collapsed": false
   },
   "outputs": [],
   "source": [
    "def periodisation(A, T):\n",
    "    \"\"\"\n",
    "    Additionne toutes les valeurs de A dans une même période.\n",
    "    input A : Matrice à périodiser\n",
    "    !! Le nombre de colonnes (axis = 1) représente le temps (l'horizon temporel) !!\n",
    "    input T : Longueur de la période\n",
    "    output : Matrice A périodisée\n",
    "    \"\"\"\n",
    "    # p : nombre de période\n",
    "    # r : reste du nombre de période\n",
    "    p = A.shape[1] // T\n",
    "    r = A.shape[1] % T\n",
    "    # On coupe la matrice car sinon il n'y a pas assez de données de remplir la dernière période\n",
    "    A = A[:,:-r] if r!=0 else A\n",
    "    # C : matrice pour additionner les productions d'une période\n",
    "    C = np.zeros((A.shape[1], p))\n",
    "    for i in range(p):\n",
    "        C[i * T:(i + 1) * T, i] = 1\n",
    "    # P : matrice périodisée\n",
    "    P = np.dot(A, C)\n",
    "    return P\n",
    "\n",
    "def E_eolienne(R, c, T):\n",
    "    A = np.zeros(R.shape)\n",
    "    for i in range(len(c)):\n",
    "        A[i] = c[i] * R[i]\n",
    "        \n",
    "    A = periodisation(A, T)\n",
    "    return A"
   ]
  },
  {
   "cell_type": "markdown",
   "id": "1a9d698594507b4d",
   "metadata": {
    "collapsed": false
   },
   "source": [
    "### Produits des fonctions communes\n",
    "Variables communes nécessitant un calcul"
   ]
  },
  {
   "cell_type": "code",
   "execution_count": null,
   "id": "566a7d20beae9778",
   "metadata": {
    "ExecuteTime": {
     "start_time": "2024-05-16T19:58:11.496428Z"
    },
    "collapsed": false
   },
   "outputs": [],
   "source": [
    "# Périodisation de D\n",
    "d = periodisation(np.array([D]), T)\n",
    "d = np.transpose(d)\n",
    "# E : matrice de la production éolienne par site par période\n",
    "E = E_eolienne(R, c, T)\n",
    "# s : scalaire, stockage total hydroélectrique\n",
    "s = np.sum(stockage)\n",
    "# pPompage : scalaire, puissance de pompage totale\n",
    "pPompage = np.sum(pompage)\n",
    "# pTurbinage : scalaire, puissance de turbinage totale\n",
    "pTurbinage = np.sum(turbinage)\n",
    "# Périodisation de W\n",
    "wA = periodisation(np.array([W]), T)\n",
    "wA = np.transpose(wA)\n",
    "# Matrice L\n",
    "L = np.tril(np.ones((t,t)))"
   ]
  },
  {
   "cell_type": "code",
   "execution_count": null,
   "id": "ec816010",
   "metadata": {},
   "outputs": [],
   "source": [
    "plt.figure()\n",
    "plt.title(\"Apports naturels au stockage hydroélectrique\")\n",
    "plt.plot(np.arange(t), wA, 'b', label=\"Apports naturels\")\n",
    "plt.xlabel(\"Nombre de périodes [-]\")\n",
    "plt.legend()\n",
    "plt.show()\n",
    "\n",
    "plt.figure()\n",
    "plt.title(\"Demande en énergie européenne par période\")\n",
    "depth = 50\n",
    "if t > 300 :\n",
    "    plt.plot(np.arange(t), d, '-.b', linewidth=0.1)\n",
    "    plt.plot(np.arange(0,t-depth,depth), results.lissage(d, depth), 'b', label=\"Demande\")\n",
    "else :\n",
    "    plt.plot(np.arange(t), d, 'b', label=\"Demande\")\n",
    "plt.xlabel(\"Nombre de périodes [-]\")\n",
    "plt.legend()\n",
    "plt.show()\n",
    "\n",
    "plotMap.plotMap(data,c,size=1e-3)"
   ]
  },
  {
   "cell_type": "markdown",
   "id": "f2efa59880f83f56",
   "metadata": {
    "collapsed": false
   },
   "source": [
    "## Modèle 4\n",
    "On considère d’abord un modèle européen agrégé avec installation d’éoliennes et utilisation des capacités hydroélectriques, mais pas de centrales au gaz. Ce modèle agrégé ne possède donc qu’une seule entité pour la production, le stockage et la consommation d’électricité (additionnez les capacités hydroélectriques et les demandes de tous les pays qui la composent).\n",
    "On chercher à calculer la valeur minimale du prix moyen de l’électricité consommée."
   ]
  },
  {
   "cell_type": "markdown",
   "id": "6c3fadd6",
   "metadata": {},
   "source": [
    "### Resolution CVXPY\n",
    "Nous résolvons le premier modèle en utilisant scipy à travers cvxpy"
   ]
  },
  {
   "cell_type": "code",
   "execution_count": null,
   "id": "7bfbb717",
   "metadata": {
    "ExecuteTime": {
     "start_time": "2024-05-16T19:58:11.497429Z"
    }
   },
   "outputs": [],
   "source": [
    "# Variables : portions des sites installés, quantités pompées, quantités turbinées\n",
    "x = cp.Variable((n,1))\n",
    "wP = cp.Variable((t,1))\n",
    "wT = cp.Variable((t,1))\n",
    "\n",
    "# Vecteur des prix d'installation d'éolienne onshore et offshore\n",
    "cost = (h/8760)*np.concatenate((cout_instal_onshore * c_t, cout_instal_offshore * c_m))\n",
    "\n",
    "# Contraintes\n",
    "contraintes = [\n",
    "    x >= 0, x <= 1, \n",
    "    E.T@x - wP + wT*heta >= d,\n",
    "    0 <= s/2 + L@(wA + wP - wT), s/2 + L@(wA + wP - wT) <= s,\n",
    "    np.ones((1,t))@(wA + wP - wT) == 0,\n",
    "    0 <= wP, wP <= T*pPompage,\n",
    "    0 <= wT, wT <= T*pTurbinage,\n",
    "    wP <= E.T@x\n",
    "    ]\n",
    "\n",
    "# Probleme\n",
    "prob = cp.Problem(cp.Minimize(cost @ x), contraintes)\n"
   ]
  },
  {
   "cell_type": "code",
   "execution_count": null,
   "id": "81c61687",
   "metadata": {
    "ExecuteTime": {
     "start_time": "2024-05-16T19:58:11.498427Z"
    }
   },
   "outputs": [],
   "source": [
    "# Resolution\n",
    "\n",
    "tstart = time.time()\n",
    "\n",
    "prob.solve(solver=cp.SCIPY)\n",
    "print(prob.status)\n",
    "\n",
    "TIME1 = time.time() - tstart"
   ]
  },
  {
   "cell_type": "code",
   "execution_count": null,
   "id": "a68b282f",
   "metadata": {
    "ExecuteTime": {
     "start_time": "2024-05-16T19:58:11.499428Z"
    }
   },
   "outputs": [],
   "source": [
    "# Get values\n",
    "prix_total = prob.value\n",
    "x = x.value\n",
    "wP = wP.value\n",
    "wT = wT.value\n",
    "\n",
    "# Vecteur d'énergie éolienne produite\n",
    "e = E.T@x\n",
    "\n",
    "# Capacités installées\n",
    "cap_install = c*x"
   ]
  },
  {
   "cell_type": "markdown",
   "id": "8e1fb4e7",
   "metadata": {},
   "source": [
    "### Résultats"
   ]
  },
  {
   "cell_type": "code",
   "execution_count": null,
   "id": "937d5620",
   "metadata": {
    "ExecuteTime": {
     "start_time": "2024-05-16T19:58:11.500429Z"
    }
   },
   "outputs": [],
   "source": [
    "PRIX1 = results.print_values_get_prixmoy(prix_total, np.sum(e), np.sum(wA), np.sum(d))\n",
    "results.occupation_bassin(t, s, wA, wP, wT)\n",
    "results.sources_eng(t, e, wP, wT*heta, d)\n",
    "plotMap.plotMap(data,cap_install,size=1e-3)"
   ]
  },
  {
   "cell_type": "markdown",
   "id": "ef02a973a0664c9d",
   "metadata": {
    "collapsed": false
   },
   "source": [
    "## Modèle 5\n",
    "Considérons le modèle 4 avec la contrainte supplémentaire suivante : sur chaque site  éolien potentiel, il faut choisir entre installer 100%, 50% ou 0% de la capacité maximale installable."
   ]
  },
  {
   "cell_type": "code",
   "execution_count": null,
   "id": "88fa1342640a960b",
   "metadata": {
    "ExecuteTime": {
     "start_time": "2024-05-16T19:58:11.501431Z"
    },
    "collapsed": false
   },
   "outputs": [],
   "source": [
    "# Variables : portions des sites installés, quantités pompées, quantités turbinées\n",
    "y = cp.Variable((n,1), integer=True)\n",
    "x = y/2\n",
    "\n",
    "wP = cp.Variable((t,1))\n",
    "wT = cp.Variable((t,1))\n",
    "\n",
    "# Vecteur des prix d'installation d'éolienne onshore et offshore\n",
    "cost = (h/8760)*np.concatenate((cout_instal_onshore * c_t, cout_instal_offshore * c_m))\n",
    "\n",
    "# Contraintes\n",
    "contraintes = [\n",
    "    E.T@(x) - wP + wT*heta >= d,\n",
    "    0 <= s/2 + L@(wA + wP - wT), s/2 + L@(wA + wP - wT) <= s,\n",
    "    np.ones((1,t))@(wA + wP - wT) == 0,\n",
    "    0 <= wP, wP <= T*pPompage,\n",
    "    0 <= wT, wT <= T*pTurbinage,\n",
    "    wP <= E.T@(x),\n",
    "    0 <= y, y<= 2\n",
    "    ]\n",
    "\n",
    "# Problemex\n",
    "prob = cp.Problem(cp.Minimize(cost @ (x)), contraintes)"
   ]
  },
  {
   "cell_type": "code",
   "execution_count": null,
   "id": "705a63e4",
   "metadata": {
    "ExecuteTime": {
     "start_time": "2024-05-16T19:58:11.502428Z"
    }
   },
   "outputs": [],
   "source": [
    "# Resolution\n",
    "\n",
    "tstart = time.time()\n",
    "\n",
    "prob.solve(solver=cp.SCIPY)\n",
    "print(prob.status)\n",
    "\n",
    "TIME2 = time.time()-tstart"
   ]
  },
  {
   "cell_type": "code",
   "execution_count": null,
   "id": "f7483a00",
   "metadata": {
    "ExecuteTime": {
     "start_time": "2024-05-16T19:58:11.503427Z"
    }
   },
   "outputs": [],
   "source": [
    "# Get values\n",
    "prix_total = prob.value\n",
    "wP = wP.value\n",
    "wT = wT.value\n",
    "\n",
    "# Vecteur d'énergie éolienne produite\n",
    "\n",
    "e = E.T@x.value\n",
    "# Capacités installées\n",
    "cap_install = c*x.value"
   ]
  },
  {
   "cell_type": "markdown",
   "id": "18eab847",
   "metadata": {},
   "source": [
    "### Resultats"
   ]
  },
  {
   "cell_type": "code",
   "execution_count": null,
   "id": "a126f066",
   "metadata": {
    "ExecuteTime": {
     "start_time": "2024-05-16T19:58:11.504429Z"
    }
   },
   "outputs": [],
   "source": [
    "PRIX2 = results.print_values_get_prixmoy(prix_total, np.sum(e), np.sum(wA), np.sum(d))\n",
    "results.occupation_bassin(t, s, wA, wP, wT)\n",
    "results.sources_eng(t, e, wP, wT*heta, d)\n",
    "plotMap.plotMap(data,cap_install,size=1e-3)"
   ]
  },
  {
   "cell_type": "markdown",
   "id": "d449a9e8503c6d8",
   "metadata": {
    "collapsed": false
   },
   "source": [
    "## Modèle 6\n",
    "Revenons au modèle initial de la question 4 et incorporons la possibilité d’installer et d’utiliser des centrales au gaz."
   ]
  },
  {
   "cell_type": "markdown",
   "id": "98224ca3506425b6",
   "metadata": {},
   "source": [
    "# Résolution du problème"
   ]
  },
  {
   "cell_type": "code",
   "execution_count": null,
   "id": "8a759440",
   "metadata": {
    "ExecuteTime": {
     "start_time": "2024-05-16T19:58:11.505428Z"
    }
   },
   "outputs": [],
   "source": [
    "# Variables : portions des sites installés, quantités pompées, quantités turbinées, puissance installée, énergie produite\n",
    "x = cp.Variable((n,1))\n",
    "wP = cp.Variable((t,1))\n",
    "wT = cp.Variable((t,1))\n",
    "pig = cp.Variable((1,1)) # puissance installée centrale au gaz (MW)\n",
    "epg = cp.Variable((t,1)) # energie produite par période centrale au gaz (MWh)\n",
    "\n",
    "# Vecteur des prix d'installation d'éolienne onshore et offshore\n",
    "cost_eol = ((h/8760)*np.concatenate((cout_instal_onshore * c_t, cout_instal_offshore * c_m)))@x\n",
    "\n",
    "# Prix d'installation et d'utilisation centrale au gaz\n",
    "cig = (h/8760)*cout_instal_gaz*pig\n",
    "cug = (cout_fonct_gaz*np.ones((1,t)))@epg\n",
    "\n",
    "# Contraintes\n",
    "contraintes = [\n",
    "    x >= 0, x <= 1, \n",
    "    pig >= 0,\n",
    "    epg >= 0,\n",
    "    E.T@x - wP + wT*heta + epg >= d,\n",
    "    0 <= s/2 + L@(wA + wP - wT), s/2 + L@(wA + wP - wT) <= s,\n",
    "    np.ones((1,t))@(wA + wP - wT) == 0,\n",
    "    0 <= wP, wP <= T*pPompage,\n",
    "    0 <= wT, wT <= T*pTurbinage,\n",
    "    epg <= T*pig,\n",
    "    wP <= E.T@x + epg\n",
    "    ]\n",
    "\n",
    "# Probleme\n",
    "prob = cp.Problem(cp.Minimize(cost_eol + cig + cug), contraintes)\n"
   ]
  },
  {
   "cell_type": "code",
   "execution_count": null,
   "id": "40122271",
   "metadata": {
    "ExecuteTime": {
     "start_time": "2024-05-16T19:58:11.506427Z"
    }
   },
   "outputs": [],
   "source": [
    "# Resolution\n",
    "\n",
    "tstart = time.time()\n",
    "\n",
    "prob.solve(solver=cp.SCIPY)\n",
    "print(prob.status)\n",
    "\n",
    "TIME3 = time.time() - tstart"
   ]
  },
  {
   "cell_type": "code",
   "execution_count": null,
   "id": "918de2d5",
   "metadata": {
    "ExecuteTime": {
     "start_time": "2024-05-16T19:58:11.507429Z"
    }
   },
   "outputs": [],
   "source": [
    "# Get values\n",
    "prix_total = prob.value\n",
    "x = x.value\n",
    "wP = wP.value\n",
    "wT = wT.value\n",
    "pig = pig.value\n",
    "epg = epg.value\n",
    "\n",
    "# Vecteur d'énergie éolienne produite\n",
    "e = E.T@x\n",
    "\n",
    "# Capacités installées\n",
    "cap_install = c*x"
   ]
  },
  {
   "cell_type": "markdown",
   "id": "16aad8f10de08187",
   "metadata": {},
   "source": [
    "### Résultats"
   ]
  },
  {
   "cell_type": "code",
   "execution_count": null,
   "id": "592cc0f6",
   "metadata": {
    "ExecuteTime": {
     "start_time": "2024-05-16T19:58:11.508428Z"
    }
   },
   "outputs": [],
   "source": [
    "PRIX3 = results.print_values_get_prixmoy(prix_total, np.sum(e), np.sum(wA), np.sum(d), e_gaz_produite=np.sum(epg))\n",
    "results.occupation_bassin(t, s, wA, wP, wT)\n",
    "results.sources_eng(t, e, wP, wT*heta, d, epg=epg)\n",
    "plotMap.plotMap(data,cap_install,size=1e-3)"
   ]
  },
  {
   "cell_type": "markdown",
   "id": "e4715ac9",
   "metadata": {},
   "source": [
    "## Modèle sans éoliennes"
   ]
  },
  {
   "cell_type": "code",
   "execution_count": null,
   "id": "53648c9c",
   "metadata": {},
   "outputs": [],
   "source": [
    "# Variables : quantités pompées, quantités turbinées, puissance installée, énergie produite\n",
    "wP = cp.Variable((t,1))\n",
    "wT = cp.Variable((t,1))\n",
    "pig = cp.Variable((1,1)) # puissance installée centrale au gaz (MW)\n",
    "epg = cp.Variable((t,1)) # energie produite par période centrale au gaz (MWh)\n",
    "\n",
    "# Prix d'installation et d'utilisation centrale au gaz\n",
    "cig = (h/8760)*cout_instal_gaz*pig\n",
    "cug = (cout_fonct_gaz*np.ones((1,t)))@epg\n",
    "\n",
    "# Contraintes\n",
    "contraintes = [\n",
    "    pig >= 0,\n",
    "    epg >= 0,\n",
    "    - wP + wT*heta + epg >= d,\n",
    "    0 <= s/2 + L@(wA + wP - wT), s/2 + L@(wA + wP - wT) <= s,\n",
    "    np.ones((1,t))@(wA + wP - wT) == 0,\n",
    "    0 <= wP, wP <= T*pPompage,\n",
    "    0 <= wT, wT <= T*pTurbinage,\n",
    "    epg <= T*pig,\n",
    "    wP <= epg\n",
    "    ]\n",
    "\n",
    "# Probleme\n",
    "prob = cp.Problem(cp.Minimize(cig + cug), contraintes)\n"
   ]
  },
  {
   "cell_type": "code",
   "execution_count": null,
   "id": "017d44b7",
   "metadata": {},
   "outputs": [],
   "source": [
    "# Resolution\n",
    "prob.solve(solver=cp.SCIPY)\n",
    "print(prob.status)"
   ]
  },
  {
   "cell_type": "code",
   "execution_count": null,
   "id": "5de272c3",
   "metadata": {},
   "outputs": [],
   "source": [
    "# Get values\n",
    "prix_total = prob.value\n",
    "wP = wP.value\n",
    "wT = wT.value\n",
    "pig = pig.value\n",
    "epg = epg.value"
   ]
  },
  {
   "cell_type": "code",
   "execution_count": null,
   "id": "14160954",
   "metadata": {},
   "outputs": [],
   "source": [
    "e = np.zeros((t,1))\n",
    "results.print_values_get_prixmoy(prix_total, np.sum(e), np.sum(wA), np.sum(d), e_gaz_produite=np.sum(epg))\n",
    "results.occupation_bassin(t, s, wA, wP, wT)\n",
    "results.sources_eng(t, e, wP, wT*heta, d, epg=epg)"
   ]
  },
  {
   "cell_type": "markdown",
   "id": "0f97434a",
   "metadata": {},
   "source": [
    "## Temps d'exécution et prix moyens"
   ]
  },
  {
   "cell_type": "code",
   "execution_count": null,
   "id": "57247085",
   "metadata": {},
   "outputs": [],
   "source": [
    "print(\"Horizon temporel\")\n",
    "print(\"Nombre d'heures: {}\".format(h))\n",
    "\n",
    "print(\"Temps d'exécution\")\n",
    "print(\"Modele 1: {}\".format(TIME1))\n",
    "print(\"Modele 2: {}\".format(TIME2))\n",
    "print(\"Modele 3: {}\".format(TIME3))\n",
    "\n",
    "print(\"Prix moyen\")\n",
    "print(\"Modele 1: {}\".format(PRIX1))\n",
    "print(\"Modele 2: {}\".format(PRIX2))\n",
    "print(\"Modele 3: {}\".format(PRIX3))\n"
   ]
  }
 ],
 "metadata": {
  "kernelspec": {
   "display_name": "Python 3",
   "language": "python",
   "name": "python3"
  },
  "language_info": {
   "codemirror_mode": {
    "name": "ipython",
    "version": 3
   },
   "file_extension": ".py",
   "mimetype": "text/x-python",
   "name": "python",
   "nbconvert_exporter": "python",
   "pygments_lexer": "ipython3",
   "version": "3.9.13"
  }
 },
 "nbformat": 4,
 "nbformat_minor": 5
}
