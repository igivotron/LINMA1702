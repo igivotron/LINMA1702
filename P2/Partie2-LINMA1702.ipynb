{
 "cells": [
  {
   "cell_type": "markdown",
   "id": "da1a1a4c448e66b1",
   "metadata": {
    "collapsed": false
   },
   "source": [
    "# Analyse d’un modèle avec demandes, stockage hydroélectrique et gaz"
   ]
  },
  {
   "cell_type": "markdown",
   "id": "cff2b2724eb2707c",
   "metadata": {
    "collapsed": false
   },
   "source": [
    "### Import des librairies utilisées pour résoudre les problèmes"
   ]
  },
  {
   "cell_type": "code",
   "id": "initial_id",
   "metadata": {
    "collapsed": true
   },
   "source": [
    "import numpy as np\n",
    "from fileData import FileData\n",
    "import matplotlib.pyplot as plt\n",
    "\n",
    "import cvxpy as cp\n",
    "import importlib\n",
    "import results\n",
    "importlib.reload(results)"
   ],
   "outputs": [],
   "execution_count": null
  },
  {
   "cell_type": "markdown",
   "id": "4347be43cae40b02",
   "metadata": {
    "collapsed": false
   },
   "source": [
    "### Variables communes"
   ]
  },
  {
   "cell_type": "code",
   "id": "dd16a4bf861852e6",
   "metadata": {
    "collapsed": false
   },
   "source": [
    "# Couts d'installation amortis des éoliennes\n",
    "cout_instal_onshore  = 168903 # Coût *amorti sur un an* pour l'installation d'un MW éolien on-shore (euros/MW/an)\n",
    "cout_instal_offshore = 300336 # Coût *amorti sur un an* pour l'installation d'un MW éolien on-shore (euros/MW/an)\n",
    "\n",
    "# Couts d'installation amortis et coûts de fonctionnement des centrales au gaz\n",
    "cout_instal_gaz = 94956 # Coût *amorti sur un an* pour l'installation d'un MW de centrale au gaz (euros/MW/an)\n",
    "cout_fonct_gaz  = 65    # Coût de fonctionnement pour la production d'un MWh par centrale au gaz (euros/MWh)\n",
    "\n",
    "# Stockage disponible par pays (en MWh)\n",
    "stockage = [0.3*1e6 , 3.2*1e6 , 0.01*1e6 , 0 , 18.4*1e6 , 9.8*1e6 , 0.24*1e6 , 7.9*1e6 , 0.005*1e6 , 84.147*1e6 , 0 , 2.6*1e6 , 1.2*1e6 , 33.756*1e6 , 8.4*1e6]\n",
    "\n",
    "# Puissances maximales de turbinage et de pompage disponibles par pays (en MW)\n",
    "turbinage = [8587 , 12009 , 1417 , 9 , 18372 , 25132 , 527 , 21117 , 1140 , 28941 , 37 , 5052 , 4269 , 16637 , 15101]\n",
    "pompage   = [5223 , 3580 , 1307 , 0 , 5347 , 4303 , 292 , 7544 , 1100 , 1396 , 0 , 1029 , 2744 , 45 , 1636 ]\n",
    "\n",
    "# Rendement pour le turbinage (sans unité)\n",
    "heta = 0.85\n",
    "\n",
    "#Nombre d'éoliennes onshore et offshore\n",
    "n_t = 487\n",
    "n_m = 155\n",
    "n = n_t + n_m"
   ],
   "outputs": [],
   "execution_count": null
  },
  {
   "cell_type": "markdown",
   "id": "d0b78119737125f7",
   "metadata": {
    "collapsed": false
   },
   "source": [
    "### Extraction des données partagées dans les modèles"
   ]
  },
  {
   "cell_type": "code",
   "id": "acfcd0a6ccd619e4",
   "metadata": {
    "collapsed": false,
    "ExecuteTime": {
     "start_time": "2024-05-16T19:58:11.493428Z"
    }
   },
   "source": [
    "data = FileData()\n",
    "\n",
    "# Matrice de la consommation agrégée\n",
    "Demandes = np.sum(data.getConsoData(), axis=0)\n",
    "# Rendement des éoliennes onshore et offshore\n",
    "Rendements = data.getRend()\n",
    "# Capacités électriques éolien\n",
    "c_t = data.getOnshoreCapacites()\n",
    "c_m = data.getOffshoreCapacites()\n",
    "c = np.concatenate((c_t,c_m))\n",
    "# Apports naturels hydroélectriques agrégés\n",
    "Water = np.sum(data.getHydroData(), axis=0)"
   ],
   "outputs": [],
   "execution_count": null
  },
  {
   "cell_type": "markdown",
   "id": "4eec1675",
   "metadata": {},
   "source": [
    "### Variables temporelles"
   ]
  },
  {
   "cell_type": "code",
   "id": "0dee1a3e",
   "metadata": {},
   "source": [
    "# Horizon temporel de résolution\n",
    "\"\"\"\n",
    "1 jour            : 24\n",
    "1 semaine         : 168\n",
    "1 mois (30 jours) : 720\n",
    "3 mois (1/4 an)   : 2190\n",
    "6 mois (1/2 an)   : 4380 \n",
    "1 an   (365 jours): 8760\n",
    "\"\"\"\n",
    "h = 1002\n",
    "\n",
    "# Longueur de la période utilisée\n",
    "T = 3\n",
    "\n",
    "# Nombre de périodes\n",
    "t = h//T"
   ],
   "outputs": [],
   "execution_count": null
  },
  {
   "cell_type": "code",
   "id": "e08d8ef9",
   "metadata": {},
   "source": [
    "# Réduction à l'horizon temporel considéré\n",
    "D = Demandes[:h]\n",
    "R = Rendements[:,:h]\n",
    "W = Water[:h]"
   ],
   "outputs": [],
   "execution_count": null
  },
  {
   "cell_type": "markdown",
   "id": "37da39102f468e12",
   "metadata": {
    "collapsed": false
   },
   "source": [
    "### Fonctions communes\n",
    "Fonctions communes à tous les modèles"
   ]
  },
  {
   "cell_type": "code",
   "id": "a4f49462ad749662",
   "metadata": {
    "collapsed": false,
    "ExecuteTime": {
     "start_time": "2024-05-16T19:58:11.495429Z"
    }
   },
   "source": [
    "def periodisation(A, T):\n",
    "    \"\"\"\n",
    "    Additionne toutes les valeurs de A dans une même période.\n",
    "    input A : Matrice à périodiser\n",
    "    !! Le nombre de colonnes (axis = 1) représente le temps (l'horizon temporel) !!\n",
    "    input T : Longueur de la période\n",
    "    output : Matrice A périodisée\n",
    "    \"\"\"\n",
    "    # p : nombre de période\n",
    "    # r : reste du nombre de période\n",
    "    p = A.shape[1] // T\n",
    "    r = A.shape[1] % T\n",
    "    # On coupe la matrice car sinon il n'y a pas assez de données de remplir la dernière période\n",
    "    A = A[:,:-r] if r!=0 else A\n",
    "    # C : matrice pour additionner les productions d'une période\n",
    "    C = np.zeros((A.shape[1], p))\n",
    "    for i in range(p):\n",
    "        C[i * T:(i + 1) * T, i] = 1\n",
    "    # P : matrice périodisée\n",
    "    P = np.dot(A, C)\n",
    "    return P\n",
    "\n",
    "def E_eolienne(R, c, T):\n",
    "    A = np.zeros(R.shape)\n",
    "    for i in range(len(c)):\n",
    "        A[i] = c[i] * R[i]\n",
    "        \n",
    "    A = periodisation(A, T)\n",
    "    return A"
   ],
   "outputs": [],
   "execution_count": null
  },
  {
   "cell_type": "markdown",
   "id": "1a9d698594507b4d",
   "metadata": {
    "collapsed": false
   },
   "source": [
    "### Produits des fonctions communes\n",
    "Variables communes nécessitant un calcul"
   ]
  },
  {
   "cell_type": "code",
   "id": "566a7d20beae9778",
   "metadata": {
    "collapsed": false,
    "ExecuteTime": {
     "start_time": "2024-05-16T19:58:11.496428Z"
    }
   },
   "source": [
    "# Périodisation de D\n",
    "d = periodisation(np.array([D]), T)\n",
    "d = np.transpose(d)\n",
    "# E : matrice de la production éolienne par site par période\n",
    "E = E_eolienne(R, c, T)\n",
    "# s : scalaire, stockage total hydroélectrique\n",
    "s = np.sum(stockage)\n",
    "# pPompage : scalaire, puissance de pompage totale\n",
    "pPompage = np.sum(pompage)\n",
    "# pTurbinage : scalaire, puissance de turbinage totale\n",
    "pTurbinage = np.sum(turbinage)\n",
    "# Périodisation de W\n",
    "wA = periodisation(np.array([W]), T)\n",
    "wA = np.transpose(wA)\n",
    "# Matrice L\n",
    "L = np.tril(np.ones((t,t)))\n",
    "\n",
    "plt.plot(np.arange(t), wA, 'b', label=\"Apports naturels\")\n",
    "#plt.plot(np.arange(t), T*pTurbinage*np.ones((t)), 'r', label=\"Max sortie\")\n",
    "plt.title(\"Apports naturels au stockage hydroélectrique\")\n",
    "plt.legend()\n",
    "plt.show()"
   ],
   "outputs": [],
   "execution_count": null
  },
  {
   "cell_type": "markdown",
   "id": "f2efa59880f83f56",
   "metadata": {
    "collapsed": false
   },
   "source": [
    "## Modèle 4\n",
    "On considère d’abord un modèle européen agrégé avec installation d’éoliennes et utilisation des capacités hydroélectriques, mais pas de centrales au gaz. Ce modèle agrégé ne possède donc qu’une seule entité pour la production, le stockage et la consommation d’électricité (additionnez les capacités hydroélectriques et les demandes de tous les pays qui la composent).\n",
    "On chercher à calculer la valeur minimale du prix moyen de l’électricité consommée."
   ]
  },
  {
   "cell_type": "markdown",
   "id": "6c3fadd6",
   "metadata": {},
   "source": [
    "### Resolution CVXPY\n",
    "Nous résolvons le premier modèle en utilisant scipy à travers cvxpy"
   ]
  },
  {
   "cell_type": "code",
   "id": "7bfbb717",
   "metadata": {
    "ExecuteTime": {
     "start_time": "2024-05-16T19:58:11.497429Z"
    }
   },
   "source": [
    "# Variables : portions des sites installés, quantités pompées, quantités turbinées\n",
    "x = cp.Variable((n,1))\n",
    "wP = cp.Variable((t,1))\n",
    "wT = cp.Variable((t,1))\n",
    "\n",
    "# Vecteur des prix d'installation d'éolienne onshore et offshore\n",
    "cost = (h/8760)*np.concatenate((cout_instal_onshore * c_t, cout_instal_offshore * c_m))\n",
    "\n",
    "# Contraintes\n",
    "contraintes = [\n",
    "    x >= 0, x <= 1, \n",
    "    E.T@x - wP + wT*heta >= d,\n",
    "    0 <= s/2 + L@(wA + wP - wT), s/2 + L@(wA + wP - wT) <= s,\n",
    "    np.ones((1,t))@(wA + wP - wT) == 0,\n",
    "    0 <= wP, wP <= T*pPompage,\n",
    "    0 <= wT, wT <= T*pTurbinage,\n",
    "    wP <= E.T@x\n",
    "    ]\n",
    "\n",
    "# Probleme\n",
    "prob = cp.Problem(cp.Minimize(cost @ x), contraintes)\n"
   ],
   "outputs": [],
   "execution_count": null
  },
  {
   "cell_type": "code",
   "id": "81c61687",
   "metadata": {
    "ExecuteTime": {
     "start_time": "2024-05-16T19:58:11.498427Z"
    }
   },
   "source": [
    "# Resolution\n",
    "prob.solve(solver=cp.CBC)\n",
    "print(prob.status)"
   ],
   "outputs": [],
   "execution_count": null
  },
  {
   "cell_type": "code",
   "id": "a68b282f",
   "metadata": {
    "ExecuteTime": {
     "start_time": "2024-05-16T19:58:11.499428Z"
    }
   },
   "source": [
    "# Get values\n",
    "prix_total = prob.value\n",
    "x = x.value\n",
    "wP = wP.value\n",
    "wT = wT.value\n",
    "\n",
    "# Vecteur d'énergie éolienne produite\n",
    "e = E.T@x\n",
    "\n",
    "# Capacités installées\n",
    "cap_install = c@x"
   ],
   "outputs": [],
   "execution_count": null
  },
  {
   "cell_type": "markdown",
   "id": "8e1fb4e7",
   "metadata": {},
   "source": [
    "### Résultats"
   ]
  },
  {
   "cell_type": "code",
   "id": "937d5620",
   "metadata": {
    "ExecuteTime": {
     "start_time": "2024-05-16T19:58:11.500429Z"
    }
   },
   "source": [
    "results.print_values(prix_total, np.sum(e), np.sum(wA), np.sum(d))\n",
    "results.occupation_bassin(t, s, wA, wP, wT)\n",
    "results.sources_eng(t, e, wP, wT, d)"
   ],
   "outputs": [],
   "execution_count": null
  },
  {
   "cell_type": "markdown",
   "id": "ef02a973a0664c9d",
   "metadata": {
    "collapsed": false
   },
   "source": [
    "## Modèle 5\n",
    "Considérons le modèle 4 avec la contrainte supplémentaire suivante : sur chaque site  éolien potentiel, il faut choisir entre installer 100%, 50% ou 0% de la capacité maximale installable."
   ]
  },
  {
   "cell_type": "code",
   "id": "88fa1342640a960b",
   "metadata": {
    "collapsed": false,
    "ExecuteTime": {
     "start_time": "2024-05-16T19:58:11.501431Z"
    }
   },
   "source": [
    "# Variables : portions des sites installés, quantités pompées, quantités turbinées\n",
    "y = cp.Variable((n,1), integer=True)\n",
    "x = y/2\n",
    "\n",
    "wP = cp.Variable((t,1))\n",
    "wT = cp.Variable((t,1))\n",
    "\n",
    "# Vecteur des prix d'installation d'éolienne onshore et offshore\n",
    "cost = (h/8760)*np.concatenate((cout_instal_onshore * c_t, cout_instal_offshore * c_m))\n",
    "\n",
    "# Contraintes\n",
    "contraintes = [\n",
    "    E.T@(x) - wP + wT*heta >= d,\n",
    "    0 <= s/2 + L@(wA + wP - wT), s/2 + L@(wA + wP - wT) <= s,\n",
    "    np.ones((1,t))@(wA + wP - wT) == 0,\n",
    "    0 <= wP, wP <= T*pPompage,\n",
    "    0 <= wT, wT <= T*pTurbinage,\n",
    "    wP <= E.T@(x),\n",
    "    0 <= y, y<= 2\n",
    "    ]\n",
    "\n",
    "# Problemex\n",
    "prob = cp.Problem(cp.Minimize(cost @ (x)), contraintes)"
   ],
   "outputs": [],
   "execution_count": null
  },
  {
   "cell_type": "code",
   "id": "705a63e4",
   "metadata": {
    "ExecuteTime": {
     "start_time": "2024-05-16T19:58:11.502428Z"
    }
   },
   "source": [
    "prob.solve(solver=cp.CBC)\n",
    "print(prob.status)"
   ],
   "outputs": [],
   "execution_count": null
  },
  {
   "cell_type": "code",
   "id": "f7483a00",
   "metadata": {
    "ExecuteTime": {
     "start_time": "2024-05-16T19:58:11.503427Z"
    }
   },
   "source": [
    "# Get values\n",
    "prix_total = prob.value\n",
    "wP = wP.value\n",
    "wT = wT.value\n",
    "\n",
    "# Vecteur d'énergie éolienne produite\n",
    "\n",
    "e = E.T@x.value\n",
    "# Capacités installées\n",
    "cap_install = c@x.value"
   ],
   "outputs": [],
   "execution_count": null
  },
  {
   "cell_type": "markdown",
   "id": "18eab847",
   "metadata": {},
   "source": [
    "### Resultats"
   ]
  },
  {
   "cell_type": "code",
   "id": "a126f066",
   "metadata": {
    "ExecuteTime": {
     "start_time": "2024-05-16T19:58:11.504429Z"
    }
   },
   "source": [
    "results.print_values(prix_total, np.sum(e), np.sum(wA), np.sum(d))\n",
    "results.occupation_bassin(t, s, wA, wP, wT)\n",
    "results.sources_eng(t, e, wP, wT, d)"
   ],
   "outputs": [],
   "execution_count": null
  },
  {
   "cell_type": "markdown",
   "id": "d449a9e8503c6d8",
   "metadata": {
    "collapsed": false
   },
   "source": [
    "## Modèle 6\n",
    "Revenons au modèle initial de la question 4 et incorporons la possibilité d’installer et d’utiliser des centrales au gaz."
   ]
  },
  {
   "metadata": {},
   "cell_type": "markdown",
   "source": [
    "## Résolution du problème"
   ],
   "id": "98224ca3506425b6"
  },
  {
   "cell_type": "code",
   "id": "8a759440",
   "metadata": {
    "ExecuteTime": {
     "start_time": "2024-05-16T19:58:11.505428Z"
    }
   },
   "source": [
    "# Variables : portions des sites installés, quantités pompées, quantités turbinées, puissance installée, énergie produite\n",
    "x = cp.Variable((n,1))\n",
    "wP = cp.Variable((t,1))\n",
    "wT = cp.Variable((t,1))\n",
    "pig = cp.Variable((1,1)) # puissance installée centrale au gaz (MW)\n",
    "epg = cp.Variable((t,1)) # energie produite par période centrale au gaz (MWh)\n",
    "\n",
    "# Vecteur des prix d'installation d'éolienne onshore et offshore\n",
    "cost_eol = ((h/8760)*np.concatenate((cout_instal_onshore * c_t, cout_instal_offshore * c_m)))@x\n",
    "\n",
    "# Prix d'installation et d'utilisation centrale au gaz\n",
    "cig = (h/8760)*cout_instal_gaz*pig\n",
    "cug = (cout_fonct_gaz*np.ones((1,t)))@epg\n",
    "\n",
    "# Contraintes\n",
    "contraintes = [\n",
    "    x >= 0, x <= 1, \n",
    "    pig >= 0,\n",
    "    epg >= 0,\n",
    "    E.T@x - wP + wT*heta + epg >= d,\n",
    "    0 <= s/2 + L@(wA + wP - wT), s/2 + L@(wA + wP - wT) <= s,\n",
    "    np.ones((1,t))@(wA + wP - wT) == 0,\n",
    "    0 <= wP, wP <= T*pPompage,\n",
    "    0 <= wT, wT <= T*pTurbinage,\n",
    "    epg <= T*pig,\n",
    "    wP <= E.T@x + epg\n",
    "    ]\n",
    "\n",
    "# Probleme\n",
    "prob = cp.Problem(cp.Minimize(cost_eol + cig + cug), contraintes)\n"
   ],
   "outputs": [],
   "execution_count": null
  },
  {
   "cell_type": "code",
   "id": "40122271",
   "metadata": {
    "ExecuteTime": {
     "start_time": "2024-05-16T19:58:11.506427Z"
    }
   },
   "source": [
    "# Resolution\n",
    "prob.solve(solver=cp.CBC)\n",
    "print(prob.status)"
   ],
   "outputs": [],
   "execution_count": null
  },
  {
   "cell_type": "code",
   "id": "918de2d5",
   "metadata": {
    "ExecuteTime": {
     "start_time": "2024-05-16T19:58:11.507429Z"
    }
   },
   "source": [
    "# Get values\n",
    "prix_total = prob.value\n",
    "x = x.value\n",
    "wP = wP.value\n",
    "wT = wT.value\n",
    "pig = pig.value\n",
    "epg = epg.value\n",
    "\n",
    "# Vecteur d'énergie éolienne produite\n",
    "e = E.T@x\n",
    "\n",
    "# Capacités installées\n",
    "cap_install = c@x"
   ],
   "outputs": [],
   "execution_count": null
  },
  {
   "metadata": {},
   "cell_type": "markdown",
   "source": [
    "### Résultats"
   ],
   "id": "16aad8f10de08187"
  },
  {
   "cell_type": "code",
   "id": "592cc0f6",
   "metadata": {
    "ExecuteTime": {
     "start_time": "2024-05-16T19:58:11.508428Z"
    }
   },
   "source": [
    "results.print_values(prix_total, np.sum(e), np.sum(wA), np.sum(d), e_gaz_produite=np.sum(epg))\n",
    "results.occupation_bassin(t, s, wA, wP, wT)\n",
    "results.sources_eng(t, e, wP, wT, d, epg=epg)"
   ],
   "outputs": [],
   "execution_count": null
  }
 ],
 "metadata": {
  "kernelspec": {
   "display_name": "Python 3",
   "language": "python",
   "name": "python3"
  },
  "language_info": {
   "codemirror_mode": {
    "name": "ipython",
    "version": 3
   },
   "file_extension": ".py",
   "mimetype": "text/x-python",
   "name": "python",
   "nbconvert_exporter": "python",
   "pygments_lexer": "ipython3",
   "version": "3.9.13"
  }
 },
 "nbformat": 4,
 "nbformat_minor": 5
}
